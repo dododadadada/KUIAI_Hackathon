{
 "cells": [
  {
   "attachments": {},
   "cell_type": "markdown",
   "metadata": {},
   "source": [
    "# 1. 이미지 벡터 추출 함수 정의"
   ]
  },
  {
   "cell_type": "code",
   "execution_count": 1,
   "metadata": {},
   "outputs": [
    {
     "name": "stderr",
     "output_type": "stream",
     "text": [
      "c:\\Users\\minje\\AppData\\Local\\Programs\\Python\\Python310\\lib\\site-packages\\torchvision\\models\\_utils.py:208: UserWarning: The parameter 'pretrained' is deprecated since 0.13 and may be removed in the future, please use 'weights' instead.\n",
      "  warnings.warn(\n",
      "c:\\Users\\minje\\AppData\\Local\\Programs\\Python\\Python310\\lib\\site-packages\\torchvision\\models\\_utils.py:223: UserWarning: Arguments other than a weight enum or `None` for 'weights' are deprecated since 0.13 and may be removed in the future. The current behavior is equivalent to passing `weights=ResNet18_Weights.IMAGENET1K_V1`. You can also use `weights=ResNet18_Weights.DEFAULT` to get the most up-to-date weights.\n",
      "  warnings.warn(msg)\n"
     ]
    }
   ],
   "source": [
    "#이미지 특징 벡터 함수  추출\n",
    "import torch\n",
    "import torch.nn as nn\n",
    "import torchvision.models as models\n",
    "import torchvision.transforms as transforms\n",
    "from torch.autograd import Variable\n",
    "from PIL import Image\n",
    "#코드 출처 https://becominghuman.ai/extract-a-feature-vector-for-any-image-with-pytorch-9717561d1d4c\n",
    "# https://daeun-computer-uneasy.tistory.com/85\n",
    "\n",
    "# Load the pretrained model\n",
    "model = models.resnet18(pretrained=True)\n",
    "\n",
    "# Use the model object to select the desired layer\n",
    "layer = model._modules.get('avgpool')\n",
    "\n",
    "# Set model to evaluation mode\n",
    "model.eval()\n",
    "\n",
    "# Image transforms\n",
    "scaler = transforms.Resize((224, 224))\n",
    "normalize = transforms.Normalize(mean=[0.485, 0.456, 0.406], std=[0.229, 0.224, 0.225])\n",
    "to_tensor = transforms.ToTensor()\n",
    "\n",
    "def get_vector(image_name):\n",
    "    # 1. Load the image with Pillow library\n",
    "    img = Image.open(image_name)\n",
    "    img = img.convert('RGB')\n",
    "    # 2. Create a PyTorch Variable with the transformed image\n",
    "    t_img = Variable(normalize(to_tensor(scaler(img))).unsqueeze(0))\n",
    "    # 3. Create a vector of zeros that will hold our feature vector\n",
    "    #    The 'avgpool' layer has an output size of 512\n",
    "    my_embedding = torch.zeros([1, 512, 1, 512])\n",
    "    # 4. Define a function that will copy the output of a layer\n",
    "    def copy_data(m, i, o):\n",
    "        my_embedding.copy_(o.data)\n",
    "    # 5. Attach that function to our selected layer\n",
    "    h = layer.register_forward_hook(copy_data)\n",
    "    # 6. Run the model on our transformed image\n",
    "    model(t_img)\n",
    "    # 7. Detach our copy function from the layer\n",
    "    h.remove()\n",
    "    # 8. Return the feature vector\n",
    "    return my_embedding\n",
    "\n",
    "#cosine similarity 함수 정의\n",
    "def cos_pytorch(A, B):\n",
    "  cos= nn.CosineSimilarity(dim=1, eps=1e-6)\n",
    "  cos_sim = cos(A, B)\n",
    "  return cos_sim.numpy()[0][0][0]"
   ]
  },
  {
   "attachments": {},
   "cell_type": "markdown",
   "metadata": {},
   "source": [
    "# 2. 인플루언서 특징 및 태깅 전처리"
   ]
  },
  {
   "cell_type": "code",
   "execution_count": 2,
   "metadata": {},
   "outputs": [
    {
     "data": {
      "text/html": [
       "<div>\n",
       "<style scoped>\n",
       "    .dataframe tbody tr th:only-of-type {\n",
       "        vertical-align: middle;\n",
       "    }\n",
       "\n",
       "    .dataframe tbody tr th {\n",
       "        vertical-align: top;\n",
       "    }\n",
       "\n",
       "    .dataframe thead th {\n",
       "        text-align: right;\n",
       "    }\n",
       "</style>\n",
       "<table border=\"1\" class=\"dataframe\">\n",
       "  <thead>\n",
       "    <tr style=\"text-align: right;\">\n",
       "      <th></th>\n",
       "      <th>id</th>\n",
       "      <th>img_name</th>\n",
       "      <th>상세이미지_구도1</th>\n",
       "      <th>상세이미지_구도2</th>\n",
       "      <th>카테고리</th>\n",
       "      <th>팔로워</th>\n",
       "      <th>성별</th>\n",
       "      <th>구도</th>\n",
       "      <th>태그</th>\n",
       "    </tr>\n",
       "  </thead>\n",
       "  <tbody>\n",
       "    <tr>\n",
       "      <th>0</th>\n",
       "      <td>@__02x02</td>\n",
       "      <td>['2912436941397721496.jpg', '29132490604646296...</td>\n",
       "      <td>[전,전,전,전,전,전,상,전,전,전,전,전,전,전,전,전,상,전,전,하,전,전,전...</td>\n",
       "      <td>[야,야,야,야,야,야,야,야,야,야,야,야,야,야,야,야,야,야,야,야,야,야,야...</td>\n",
       "      <td>NaN</td>\n",
       "      <td>micro</td>\n",
       "      <td>여</td>\n",
       "      <td>코디,야외,전신,상품</td>\n",
       "      <td>스트릿,레트로</td>\n",
       "    </tr>\n",
       "    <tr>\n",
       "      <th>1</th>\n",
       "      <td>@__my_t__</td>\n",
       "      <td>['2967674458791156213.jpg', '29820661560695805...</td>\n",
       "      <td>[전,전,전,전,전,전,전,니,전,전,전,전,전,전,전,전,니,전,전,상,전,전,니...</td>\n",
       "      <td>[실,야,실,실,실,실,실,실,야,실,실,실,실,실,실,실,실,실,실,실,실,실,실...</td>\n",
       "      <td>NaN</td>\n",
       "      <td>micro</td>\n",
       "      <td>남</td>\n",
       "      <td>일상,야외,상품,전신</td>\n",
       "      <td>스트릿,캐주얼,댄디</td>\n",
       "    </tr>\n",
       "    <tr>\n",
       "      <th>2</th>\n",
       "      <td>@__v.yuum_look__</td>\n",
       "      <td>['2875249160037008816.jpg', '29141202885707093...</td>\n",
       "      <td>[니,니,상,니,니,니,니,니,니,니,니,니,니,니,니,니,니,상,니,니,니,니,니...</td>\n",
       "      <td>[실,야,실,실,실,실,실,실,실,야,실,실,실,실,실,실,실,야,실,실,실,실,실...</td>\n",
       "      <td>NaN</td>\n",
       "      <td>micro</td>\n",
       "      <td>여</td>\n",
       "      <td>거울,상반신,스튜디오,일상</td>\n",
       "      <td>캐주얼,로맨틱</td>\n",
       "    </tr>\n",
       "    <tr>\n",
       "      <th>3</th>\n",
       "      <td>@_jongh0</td>\n",
       "      <td>['2970996238523862884.jpg', '29717036134133031...</td>\n",
       "      <td>[전,전,전,전,전,전,전,니,전,전,전,전,전,전,전,전,전,전,전,전,전,전,전...</td>\n",
       "      <td>[야,야,야,실,야,실,야,야,야,야,야,야,야,실,야,야,야,야,실,야,야,야,야...</td>\n",
       "      <td>NaN</td>\n",
       "      <td>midtier</td>\n",
       "      <td>남</td>\n",
       "      <td>코디,전신</td>\n",
       "      <td>캐주얼,스트릿</td>\n",
       "    </tr>\n",
       "    <tr>\n",
       "      <th>4</th>\n",
       "      <td>@_mgi_closet_</td>\n",
       "      <td>['2856667809394379675.jpg', '28587777545668397...</td>\n",
       "      <td>[전,전,전,전,전,전,전,전,전,전,전,전,전,전,전,전,전,전,전,전,전,전,전...</td>\n",
       "      <td>[실,실,실,실,야,야,실,실,실,실,실,실,야,실,실,실,실,야,실,실,실,실,야...</td>\n",
       "      <td>NaN</td>\n",
       "      <td>nano</td>\n",
       "      <td>남</td>\n",
       "      <td>전신,야외,코디</td>\n",
       "      <td>댄디,스트릿</td>\n",
       "    </tr>\n",
       "  </tbody>\n",
       "</table>\n",
       "</div>"
      ],
      "text/plain": [
       "                 id                                           img_name  \\\n",
       "0          @__02x02  ['2912436941397721496.jpg', '29132490604646296...   \n",
       "1         @__my_t__  ['2967674458791156213.jpg', '29820661560695805...   \n",
       "2  @__v.yuum_look__  ['2875249160037008816.jpg', '29141202885707093...   \n",
       "3          @_jongh0  ['2970996238523862884.jpg', '29717036134133031...   \n",
       "4     @_mgi_closet_  ['2856667809394379675.jpg', '28587777545668397...   \n",
       "\n",
       "                                           상세이미지_구도1  \\\n",
       "0  [전,전,전,전,전,전,상,전,전,전,전,전,전,전,전,전,상,전,전,하,전,전,전...   \n",
       "1  [전,전,전,전,전,전,전,니,전,전,전,전,전,전,전,전,니,전,전,상,전,전,니...   \n",
       "2  [니,니,상,니,니,니,니,니,니,니,니,니,니,니,니,니,니,상,니,니,니,니,니...   \n",
       "3  [전,전,전,전,전,전,전,니,전,전,전,전,전,전,전,전,전,전,전,전,전,전,전...   \n",
       "4  [전,전,전,전,전,전,전,전,전,전,전,전,전,전,전,전,전,전,전,전,전,전,전...   \n",
       "\n",
       "                                           상세이미지_구도2  카테고리      팔로워 성별  \\\n",
       "0  [야,야,야,야,야,야,야,야,야,야,야,야,야,야,야,야,야,야,야,야,야,야,야...   NaN    micro  여   \n",
       "1  [실,야,실,실,실,실,실,실,야,실,실,실,실,실,실,실,실,실,실,실,실,실,실...   NaN    micro  남   \n",
       "2  [실,야,실,실,실,실,실,실,실,야,실,실,실,실,실,실,실,야,실,실,실,실,실...   NaN    micro  여   \n",
       "3  [야,야,야,실,야,실,야,야,야,야,야,야,야,실,야,야,야,야,실,야,야,야,야...   NaN  midtier  남   \n",
       "4  [실,실,실,실,야,야,실,실,실,실,실,실,야,실,실,실,실,야,실,실,실,실,야...   NaN     nano  남   \n",
       "\n",
       "               구도          태그  \n",
       "0     코디,야외,전신,상품     스트릿,레트로  \n",
       "1     일상,야외,상품,전신  스트릿,캐주얼,댄디  \n",
       "2  거울,상반신,스튜디오,일상     캐주얼,로맨틱  \n",
       "3           코디,전신     캐주얼,스트릿  \n",
       "4        전신,야외,코디      댄디,스트릿  "
      ]
     },
     "execution_count": 2,
     "metadata": {},
     "output_type": "execute_result"
    }
   ],
   "source": [
    "import pandas as pd\n",
    "influencer_tag = pd.read_csv('C:/Korea university/공모전/해커톤/모델링/업체-인플루언서/성별포함인플루언서ID_리스트_상세태깅추가.csv')\n",
    "tag = influencer_tag.copy()\n",
    "tag.head()"
   ]
  },
  {
   "attachments": {},
   "cell_type": "markdown",
   "metadata": {},
   "source": [
    "## 2-1. 구도 및 태그 종류 확인"
   ]
  },
  {
   "cell_type": "code",
   "execution_count": 3,
   "metadata": {},
   "outputs": [
    {
     "data": {
      "text/plain": [
       "{'거울', '상반신', '상품', '스튜디오', '야외', '일상', '전신', '코디'}"
      ]
     },
     "execution_count": 3,
     "metadata": {},
     "output_type": "execute_result"
    }
   ],
   "source": [
    "#구도 카테고리들\n",
    "t =[]\n",
    "for i in tag['구도']:\n",
    "    t += i.split(',')\n",
    "set(t)"
   ]
  },
  {
   "cell_type": "code",
   "execution_count": 4,
   "metadata": {},
   "outputs": [
    {
     "data": {
      "text/plain": [
       "{'걸리시', '댄디', '레트로', '로맨틱', '스트릿', '스포츠', '시크', '아메리칸캐주얼', '캐주얼', '포멀'}"
      ]
     },
     "execution_count": 4,
     "metadata": {},
     "output_type": "execute_result"
    }
   ],
   "source": [
    "#테그 카테고리들\n",
    "t =[]\n",
    "for i in tag['태그']:\n",
    "    t += i.split(',')\n",
    "set(t)"
   ]
  },
  {
   "cell_type": "code",
   "execution_count": null,
   "metadata": {},
   "outputs": [],
   "source": [
    "# 성별: 남(0), 여(1)\n",
    "# 팔로워: 'mega', 'macro', 'midtier', 'micro'\n",
    "# 구도: '거울', '상반신', '상품', '스튜디오', '야외', '일상', '전신', '코디'\n",
    "# 카테고리(남): '댄디', '스트릿', '스포츠', '아메리칸캐주얼', '캐주얼', '포멀'\n",
    "# 카테고리(여): '걸리시', '레트로', '로맨틱', '스트릿', '스포츠', '시크', '캐주얼', '포멀'"
   ]
  },
  {
   "attachments": {},
   "cell_type": "markdown",
   "metadata": {},
   "source": [
    "## 2-2. 특징들 리스트로 저장"
   ]
  },
  {
   "cell_type": "code",
   "execution_count": 5,
   "metadata": {},
   "outputs": [
    {
     "name": "stderr",
     "output_type": "stream",
     "text": [
      "C:\\Users\\minje\\AppData\\Local\\Temp\\ipykernel_24068\\1496508183.py:2: SettingWithCopyWarning: \n",
      "A value is trying to be set on a copy of a slice from a DataFrame\n",
      "\n",
      "See the caveats in the documentation: https://pandas.pydata.org/pandas-docs/stable/user_guide/indexing.html#returning-a-view-versus-a-copy\n",
      "  tag['구도'][i] = tag['구도'][i].split(',')\n",
      "C:\\Users\\minje\\AppData\\Local\\Temp\\ipykernel_24068\\1496508183.py:3: SettingWithCopyWarning: \n",
      "A value is trying to be set on a copy of a slice from a DataFrame\n",
      "\n",
      "See the caveats in the documentation: https://pandas.pydata.org/pandas-docs/stable/user_guide/indexing.html#returning-a-view-versus-a-copy\n",
      "  tag['태그'][i] = tag['태그'][i].split(',')\n"
     ]
    },
    {
     "data": {
      "text/html": [
       "<div>\n",
       "<style scoped>\n",
       "    .dataframe tbody tr th:only-of-type {\n",
       "        vertical-align: middle;\n",
       "    }\n",
       "\n",
       "    .dataframe tbody tr th {\n",
       "        vertical-align: top;\n",
       "    }\n",
       "\n",
       "    .dataframe thead th {\n",
       "        text-align: right;\n",
       "    }\n",
       "</style>\n",
       "<table border=\"1\" class=\"dataframe\">\n",
       "  <thead>\n",
       "    <tr style=\"text-align: right;\">\n",
       "      <th></th>\n",
       "      <th>id</th>\n",
       "      <th>img_name</th>\n",
       "      <th>상세이미지_구도1</th>\n",
       "      <th>상세이미지_구도2</th>\n",
       "      <th>카테고리</th>\n",
       "      <th>팔로워</th>\n",
       "      <th>성별</th>\n",
       "      <th>구도</th>\n",
       "      <th>태그</th>\n",
       "    </tr>\n",
       "  </thead>\n",
       "  <tbody>\n",
       "    <tr>\n",
       "      <th>0</th>\n",
       "      <td>@__02x02</td>\n",
       "      <td>['2912436941397721496.jpg', '29132490604646296...</td>\n",
       "      <td>[전,전,전,전,전,전,상,전,전,전,전,전,전,전,전,전,상,전,전,하,전,전,전...</td>\n",
       "      <td>[야,야,야,야,야,야,야,야,야,야,야,야,야,야,야,야,야,야,야,야,야,야,야...</td>\n",
       "      <td>NaN</td>\n",
       "      <td>micro</td>\n",
       "      <td>여</td>\n",
       "      <td>[코디, 야외, 전신, 상품]</td>\n",
       "      <td>[스트릿, 레트로]</td>\n",
       "    </tr>\n",
       "    <tr>\n",
       "      <th>1</th>\n",
       "      <td>@__my_t__</td>\n",
       "      <td>['2967674458791156213.jpg', '29820661560695805...</td>\n",
       "      <td>[전,전,전,전,전,전,전,니,전,전,전,전,전,전,전,전,니,전,전,상,전,전,니...</td>\n",
       "      <td>[실,야,실,실,실,실,실,실,야,실,실,실,실,실,실,실,실,실,실,실,실,실,실...</td>\n",
       "      <td>NaN</td>\n",
       "      <td>micro</td>\n",
       "      <td>남</td>\n",
       "      <td>[일상, 야외, 상품, 전신]</td>\n",
       "      <td>[스트릿, 캐주얼, 댄디]</td>\n",
       "    </tr>\n",
       "    <tr>\n",
       "      <th>2</th>\n",
       "      <td>@__v.yuum_look__</td>\n",
       "      <td>['2875249160037008816.jpg', '29141202885707093...</td>\n",
       "      <td>[니,니,상,니,니,니,니,니,니,니,니,니,니,니,니,니,니,상,니,니,니,니,니...</td>\n",
       "      <td>[실,야,실,실,실,실,실,실,실,야,실,실,실,실,실,실,실,야,실,실,실,실,실...</td>\n",
       "      <td>NaN</td>\n",
       "      <td>micro</td>\n",
       "      <td>여</td>\n",
       "      <td>[거울, 상반신, 스튜디오, 일상]</td>\n",
       "      <td>[캐주얼, 로맨틱]</td>\n",
       "    </tr>\n",
       "    <tr>\n",
       "      <th>3</th>\n",
       "      <td>@_jongh0</td>\n",
       "      <td>['2970996238523862884.jpg', '29717036134133031...</td>\n",
       "      <td>[전,전,전,전,전,전,전,니,전,전,전,전,전,전,전,전,전,전,전,전,전,전,전...</td>\n",
       "      <td>[야,야,야,실,야,실,야,야,야,야,야,야,야,실,야,야,야,야,실,야,야,야,야...</td>\n",
       "      <td>NaN</td>\n",
       "      <td>midtier</td>\n",
       "      <td>남</td>\n",
       "      <td>[코디, 전신]</td>\n",
       "      <td>[캐주얼, 스트릿]</td>\n",
       "    </tr>\n",
       "    <tr>\n",
       "      <th>4</th>\n",
       "      <td>@_mgi_closet_</td>\n",
       "      <td>['2856667809394379675.jpg', '28587777545668397...</td>\n",
       "      <td>[전,전,전,전,전,전,전,전,전,전,전,전,전,전,전,전,전,전,전,전,전,전,전...</td>\n",
       "      <td>[실,실,실,실,야,야,실,실,실,실,실,실,야,실,실,실,실,야,실,실,실,실,야...</td>\n",
       "      <td>NaN</td>\n",
       "      <td>nano</td>\n",
       "      <td>남</td>\n",
       "      <td>[전신, 야외, 코디]</td>\n",
       "      <td>[댄디, 스트릿]</td>\n",
       "    </tr>\n",
       "  </tbody>\n",
       "</table>\n",
       "</div>"
      ],
      "text/plain": [
       "                 id                                           img_name  \\\n",
       "0          @__02x02  ['2912436941397721496.jpg', '29132490604646296...   \n",
       "1         @__my_t__  ['2967674458791156213.jpg', '29820661560695805...   \n",
       "2  @__v.yuum_look__  ['2875249160037008816.jpg', '29141202885707093...   \n",
       "3          @_jongh0  ['2970996238523862884.jpg', '29717036134133031...   \n",
       "4     @_mgi_closet_  ['2856667809394379675.jpg', '28587777545668397...   \n",
       "\n",
       "                                           상세이미지_구도1  \\\n",
       "0  [전,전,전,전,전,전,상,전,전,전,전,전,전,전,전,전,상,전,전,하,전,전,전...   \n",
       "1  [전,전,전,전,전,전,전,니,전,전,전,전,전,전,전,전,니,전,전,상,전,전,니...   \n",
       "2  [니,니,상,니,니,니,니,니,니,니,니,니,니,니,니,니,니,상,니,니,니,니,니...   \n",
       "3  [전,전,전,전,전,전,전,니,전,전,전,전,전,전,전,전,전,전,전,전,전,전,전...   \n",
       "4  [전,전,전,전,전,전,전,전,전,전,전,전,전,전,전,전,전,전,전,전,전,전,전...   \n",
       "\n",
       "                                           상세이미지_구도2  카테고리      팔로워 성별  \\\n",
       "0  [야,야,야,야,야,야,야,야,야,야,야,야,야,야,야,야,야,야,야,야,야,야,야...   NaN    micro  여   \n",
       "1  [실,야,실,실,실,실,실,실,야,실,실,실,실,실,실,실,실,실,실,실,실,실,실...   NaN    micro  남   \n",
       "2  [실,야,실,실,실,실,실,실,실,야,실,실,실,실,실,실,실,야,실,실,실,실,실...   NaN    micro  여   \n",
       "3  [야,야,야,실,야,실,야,야,야,야,야,야,야,실,야,야,야,야,실,야,야,야,야...   NaN  midtier  남   \n",
       "4  [실,실,실,실,야,야,실,실,실,실,실,실,야,실,실,실,실,야,실,실,실,실,야...   NaN     nano  남   \n",
       "\n",
       "                    구도              태그  \n",
       "0     [코디, 야외, 전신, 상품]      [스트릿, 레트로]  \n",
       "1     [일상, 야외, 상품, 전신]  [스트릿, 캐주얼, 댄디]  \n",
       "2  [거울, 상반신, 스튜디오, 일상]      [캐주얼, 로맨틱]  \n",
       "3             [코디, 전신]      [캐주얼, 스트릿]  \n",
       "4         [전신, 야외, 코디]       [댄디, 스트릿]  "
      ]
     },
     "execution_count": 5,
     "metadata": {},
     "output_type": "execute_result"
    }
   ],
   "source": [
    "for i in range(len(tag)):\n",
    "    tag['구도'][i] = tag['구도'][i].split(',')\n",
    "    tag['태그'][i] = tag['태그'][i].split(',')\n",
    "tag.head()"
   ]
  },
  {
   "cell_type": "code",
   "execution_count": 6,
   "metadata": {},
   "outputs": [
    {
     "name": "stderr",
     "output_type": "stream",
     "text": [
      "C:\\Users\\minje\\AppData\\Local\\Temp\\ipykernel_24068\\4282012428.py:4: SettingWithCopyWarning: \n",
      "A value is trying to be set on a copy of a slice from a DataFrame\n",
      "\n",
      "See the caveats in the documentation: https://pandas.pydata.org/pandas-docs/stable/user_guide/indexing.html#returning-a-view-versus-a-copy\n",
      "  tag['img_name'][i] = ast.literal_eval(tag['img_name'][i])\n",
      "C:\\Users\\minje\\AppData\\Local\\Temp\\ipykernel_24068\\4282012428.py:5: SettingWithCopyWarning: \n",
      "A value is trying to be set on a copy of a slice from a DataFrame\n",
      "\n",
      "See the caveats in the documentation: https://pandas.pydata.org/pandas-docs/stable/user_guide/indexing.html#returning-a-view-versus-a-copy\n",
      "  tag['상세이미지_구도1'][i] = tag['상세이미지_구도1'][i].split('[')[1].split(']')[0].split(',')\n",
      "C:\\Users\\minje\\AppData\\Local\\Temp\\ipykernel_24068\\4282012428.py:6: SettingWithCopyWarning: \n",
      "A value is trying to be set on a copy of a slice from a DataFrame\n",
      "\n",
      "See the caveats in the documentation: https://pandas.pydata.org/pandas-docs/stable/user_guide/indexing.html#returning-a-view-versus-a-copy\n",
      "  tag['상세이미지_구도2'][i] = tag['상세이미지_구도2'][i].split('[')[1].split(']')[0].split(',')\n"
     ]
    }
   ],
   "source": [
    "#불러온 데이터 전처리 (리스트가 str으로 변해있음..)\n",
    "import ast\n",
    "for i in range(len(tag)):\n",
    "    tag['img_name'][i] = ast.literal_eval(tag['img_name'][i])\n",
    "    tag['상세이미지_구도1'][i] = tag['상세이미지_구도1'][i].split('[')[1].split(']')[0].split(',')\n",
    "    tag['상세이미지_구도2'][i] = tag['상세이미지_구도2'][i].split('[')[1].split(']')[0].split(',')"
   ]
  },
  {
   "cell_type": "code",
   "execution_count": 7,
   "metadata": {},
   "outputs": [
    {
     "data": {
      "text/html": [
       "<div>\n",
       "<style scoped>\n",
       "    .dataframe tbody tr th:only-of-type {\n",
       "        vertical-align: middle;\n",
       "    }\n",
       "\n",
       "    .dataframe tbody tr th {\n",
       "        vertical-align: top;\n",
       "    }\n",
       "\n",
       "    .dataframe thead th {\n",
       "        text-align: right;\n",
       "    }\n",
       "</style>\n",
       "<table border=\"1\" class=\"dataframe\">\n",
       "  <thead>\n",
       "    <tr style=\"text-align: right;\">\n",
       "      <th></th>\n",
       "      <th>id</th>\n",
       "      <th>img_name</th>\n",
       "      <th>상세이미지_구도1</th>\n",
       "      <th>상세이미지_구도2</th>\n",
       "      <th>카테고리</th>\n",
       "      <th>팔로워</th>\n",
       "      <th>성별</th>\n",
       "      <th>구도</th>\n",
       "      <th>태그</th>\n",
       "    </tr>\n",
       "  </thead>\n",
       "  <tbody>\n",
       "    <tr>\n",
       "      <th>0</th>\n",
       "      <td>@__02x02</td>\n",
       "      <td>[2912436941397721496.jpg, 2913249060464629697....</td>\n",
       "      <td>[전, 전, 전, 전, 전, 전, 상, 전, 전, 전, 전, 전, 전, 전, 전, ...</td>\n",
       "      <td>[야, 야, 야, 야, 야, 야, 야, 야, 야, 야, 야, 야, 야, 야, 야, ...</td>\n",
       "      <td>NaN</td>\n",
       "      <td>micro</td>\n",
       "      <td>여</td>\n",
       "      <td>[코디, 야외, 전신, 상품]</td>\n",
       "      <td>[스트릿, 레트로]</td>\n",
       "    </tr>\n",
       "    <tr>\n",
       "      <th>1</th>\n",
       "      <td>@__my_t__</td>\n",
       "      <td>[2967674458791156213.jpg, 2982066156069580582....</td>\n",
       "      <td>[전, 전, 전, 전, 전, 전, 전, 니, 전, 전, 전, 전, 전, 전, 전, ...</td>\n",
       "      <td>[실, 야, 실, 실, 실, 실, 실, 실, 야, 실, 실, 실, 실, 실, 실, ...</td>\n",
       "      <td>NaN</td>\n",
       "      <td>micro</td>\n",
       "      <td>남</td>\n",
       "      <td>[일상, 야외, 상품, 전신]</td>\n",
       "      <td>[스트릿, 캐주얼, 댄디]</td>\n",
       "    </tr>\n",
       "    <tr>\n",
       "      <th>2</th>\n",
       "      <td>@__v.yuum_look__</td>\n",
       "      <td>[2875249160037008816.jpg, 2914120288570709385....</td>\n",
       "      <td>[니, 니, 상, 니, 니, 니, 니, 니, 니, 니, 니, 니, 니, 니, 니, ...</td>\n",
       "      <td>[실, 야, 실, 실, 실, 실, 실, 실, 실, 야, 실, 실, 실, 실, 실, ...</td>\n",
       "      <td>NaN</td>\n",
       "      <td>micro</td>\n",
       "      <td>여</td>\n",
       "      <td>[거울, 상반신, 스튜디오, 일상]</td>\n",
       "      <td>[캐주얼, 로맨틱]</td>\n",
       "    </tr>\n",
       "    <tr>\n",
       "      <th>3</th>\n",
       "      <td>@_jongh0</td>\n",
       "      <td>[2970996238523862884.jpg, 2971703613413303190....</td>\n",
       "      <td>[전, 전, 전, 전, 전, 전, 전, 니, 전, 전, 전, 전, 전, 전, 전, ...</td>\n",
       "      <td>[야, 야, 야, 실, 야, 실, 야, 야, 야, 야, 야, 야, 야, 실, 야, ...</td>\n",
       "      <td>NaN</td>\n",
       "      <td>midtier</td>\n",
       "      <td>남</td>\n",
       "      <td>[코디, 전신]</td>\n",
       "      <td>[캐주얼, 스트릿]</td>\n",
       "    </tr>\n",
       "    <tr>\n",
       "      <th>4</th>\n",
       "      <td>@_mgi_closet_</td>\n",
       "      <td>[2856667809394379675.jpg, 2858777754566839754....</td>\n",
       "      <td>[전, 전, 전, 전, 전, 전, 전, 전, 전, 전, 전, 전, 전, 전, 전, ...</td>\n",
       "      <td>[실, 실, 실, 실, 야, 야, 실, 실, 실, 실, 실, 실, 야, 실, 실, ...</td>\n",
       "      <td>NaN</td>\n",
       "      <td>nano</td>\n",
       "      <td>남</td>\n",
       "      <td>[전신, 야외, 코디]</td>\n",
       "      <td>[댄디, 스트릿]</td>\n",
       "    </tr>\n",
       "  </tbody>\n",
       "</table>\n",
       "</div>"
      ],
      "text/plain": [
       "                 id                                           img_name  \\\n",
       "0          @__02x02  [2912436941397721496.jpg, 2913249060464629697....   \n",
       "1         @__my_t__  [2967674458791156213.jpg, 2982066156069580582....   \n",
       "2  @__v.yuum_look__  [2875249160037008816.jpg, 2914120288570709385....   \n",
       "3          @_jongh0  [2970996238523862884.jpg, 2971703613413303190....   \n",
       "4     @_mgi_closet_  [2856667809394379675.jpg, 2858777754566839754....   \n",
       "\n",
       "                                           상세이미지_구도1  \\\n",
       "0  [전, 전, 전, 전, 전, 전, 상, 전, 전, 전, 전, 전, 전, 전, 전, ...   \n",
       "1  [전, 전, 전, 전, 전, 전, 전, 니, 전, 전, 전, 전, 전, 전, 전, ...   \n",
       "2  [니, 니, 상, 니, 니, 니, 니, 니, 니, 니, 니, 니, 니, 니, 니, ...   \n",
       "3  [전, 전, 전, 전, 전, 전, 전, 니, 전, 전, 전, 전, 전, 전, 전, ...   \n",
       "4  [전, 전, 전, 전, 전, 전, 전, 전, 전, 전, 전, 전, 전, 전, 전, ...   \n",
       "\n",
       "                                           상세이미지_구도2  카테고리      팔로워 성별  \\\n",
       "0  [야, 야, 야, 야, 야, 야, 야, 야, 야, 야, 야, 야, 야, 야, 야, ...   NaN    micro  여   \n",
       "1  [실, 야, 실, 실, 실, 실, 실, 실, 야, 실, 실, 실, 실, 실, 실, ...   NaN    micro  남   \n",
       "2  [실, 야, 실, 실, 실, 실, 실, 실, 실, 야, 실, 실, 실, 실, 실, ...   NaN    micro  여   \n",
       "3  [야, 야, 야, 실, 야, 실, 야, 야, 야, 야, 야, 야, 야, 실, 야, ...   NaN  midtier  남   \n",
       "4  [실, 실, 실, 실, 야, 야, 실, 실, 실, 실, 실, 실, 야, 실, 실, ...   NaN     nano  남   \n",
       "\n",
       "                    구도              태그  \n",
       "0     [코디, 야외, 전신, 상품]      [스트릿, 레트로]  \n",
       "1     [일상, 야외, 상품, 전신]  [스트릿, 캐주얼, 댄디]  \n",
       "2  [거울, 상반신, 스튜디오, 일상]      [캐주얼, 로맨틱]  \n",
       "3             [코디, 전신]      [캐주얼, 스트릿]  \n",
       "4         [전신, 야외, 코디]       [댄디, 스트릿]  "
      ]
     },
     "execution_count": 7,
     "metadata": {},
     "output_type": "execute_result"
    }
   ],
   "source": [
    "tag.head()"
   ]
  },
  {
   "attachments": {},
   "cell_type": "markdown",
   "metadata": {},
   "source": [
    "## 2-3. 상세이미지 특징 전처리"
   ]
  },
  {
   "attachments": {},
   "cell_type": "markdown",
   "metadata": {},
   "source": [
    "* 분류\n",
    "1. 성별 = 남,여\n",
    "2. 상세이미지_구도1 = ['니샷', '상반신', '셀카', '제품', '전신', '하반신'] \n",
    "3. 상세이미지_구도2 = ['실내', '야외']\n",
    "4. 카테고리 (남, 여에 따라 아래 두가지)\\\n",
    "    cate_m(sex=0인 경우) = ['댄디', '스트릿', '(포)스포츠', '아메리칸캐주얼', '캐주얼', '포멀']\\\n",
    "    cate_w(sex=1인 경우) = ['걸리시', '레트로', '로맨틱', '스트릿', '(츠)스포츠', '시크', '캐주얼', '포멀']"
   ]
  },
  {
   "attachments": {},
   "cell_type": "markdown",
   "metadata": {},
   "source": [
    "각 계정별로 주로 어떤 구도의 이미지가 있는지 count 한다"
   ]
  },
  {
   "cell_type": "code",
   "execution_count": 8,
   "metadata": {},
   "outputs": [
    {
     "data": {
      "text/plain": [
       "Counter({'전': 27, '상': 2, '하': 1})"
      ]
     },
     "execution_count": 8,
     "metadata": {},
     "output_type": "execute_result"
    }
   ],
   "source": [
    "from collections import Counter\n",
    "Counter(tag['상세이미지_구도1'][0])"
   ]
  },
  {
   "cell_type": "code",
   "execution_count": 9,
   "metadata": {},
   "outputs": [],
   "source": [
    "from collections import Counter\n",
    "\n",
    "counts=[]\n",
    "for i in tag['상세이미지_구도1']:\n",
    "    count = Counter(i)\n",
    "    counts.append(count)\n",
    "tag['촬영구도 카운트'] = counts\n",
    "\n",
    "counts1=[]\n",
    "for i in tag['상세이미지_구도2']:\n",
    "    count = Counter(i)\n",
    "    counts1.append(count)\n",
    "tag['촬영장소 카운트'] = counts1"
   ]
  },
  {
   "attachments": {},
   "cell_type": "markdown",
   "metadata": {},
   "source": [
    "## 2-3. one-hot encoding하기"
   ]
  },
  {
   "cell_type": "code",
   "execution_count": 11,
   "metadata": {},
   "outputs": [],
   "source": [
    "follower = ['mega', 'macro', 'midtier', 'micro']\n",
    "structure1 = ['니', '상', '셀', '제', '전', '하'] #['니샷', '상반신', '셀카', '제품', '전신', '하반신']\n",
    "structure2 = ['실', '야'] #['실내', '야외']\n",
    "cate_m = ['댄디', '스트릿', '스포츠', '아메리칸캐주얼', '캐주얼', '포멀']\n",
    "cate_w = ['걸리시', '레트로', '로맨틱', '스트릿', '스포츠', '시크', '캐주얼', '포멀']\n",
    "cate_total = ['걸리시', '댄디', '레트로', '로맨틱', '스트릿', '스포츠', '시크', '아메리칸캐주얼', '캐주얼', '포멀']"
   ]
  },
  {
   "cell_type": "code",
   "execution_count": 12,
   "metadata": {},
   "outputs": [
    {
     "name": "stderr",
     "output_type": "stream",
     "text": [
      "C:\\Users\\minje\\AppData\\Local\\Temp\\ipykernel_24068\\3067388280.py:9: SettingWithCopyWarning: \n",
      "A value is trying to be set on a copy of a slice from a DataFrame\n",
      "\n",
      "See the caveats in the documentation: https://pandas.pydata.org/pandas-docs/stable/user_guide/indexing.html#returning-a-view-versus-a-copy\n",
      "  tag['팔로워'][i] = encode\n"
     ]
    }
   ],
   "source": [
    "#팔로워 수\n",
    "for i in range(len(tag)):\n",
    "    encode = []\n",
    "    for j in follower:\n",
    "        if j in tag['팔로워'][i]:\n",
    "            encode.append(1)\n",
    "        else:\n",
    "            encode.append(0)\n",
    "    tag['팔로워'][i] = encode"
   ]
  },
  {
   "cell_type": "code",
   "execution_count": 13,
   "metadata": {},
   "outputs": [
    {
     "name": "stderr",
     "output_type": "stream",
     "text": [
      "C:\\Users\\minje\\AppData\\Local\\Temp\\ipykernel_24068\\4257718039.py:6: SettingWithCopyWarning: \n",
      "A value is trying to be set on a copy of a slice from a DataFrame\n",
      "\n",
      "See the caveats in the documentation: https://pandas.pydata.org/pandas-docs/stable/user_guide/indexing.html#returning-a-view-versus-a-copy\n",
      "  tag['성별'][i] = 1\n",
      "C:\\Users\\minje\\AppData\\Local\\Temp\\ipykernel_24068\\4257718039.py:4: SettingWithCopyWarning: \n",
      "A value is trying to be set on a copy of a slice from a DataFrame\n",
      "\n",
      "See the caveats in the documentation: https://pandas.pydata.org/pandas-docs/stable/user_guide/indexing.html#returning-a-view-versus-a-copy\n",
      "  tag['성별'][i] = 0\n"
     ]
    }
   ],
   "source": [
    "#성별\n",
    "for i in range(len(tag)):\n",
    "    if tag['성별'][i] == '남':\n",
    "        tag['성별'][i] = 0\n",
    "    else:\n",
    "        tag['성별'][i] = 1"
   ]
  },
  {
   "attachments": {},
   "cell_type": "markdown",
   "metadata": {},
   "source": [
    "### 촬영구도, 촬영장소 빈도수 만큼 one-hot encoding\n",
    "ex) ['니샷', '상반신', '셀카', '제품', '전신', '하반신'] -> [5,24,0,1,1,0]"
   ]
  },
  {
   "cell_type": "code",
   "execution_count": 15,
   "metadata": {},
   "outputs": [],
   "source": [
    "tag['촬영구도 원핫'] = [0]*len(tag)\n",
    "tag['촬영장소 원핫'] = [0]*len(tag)"
   ]
  },
  {
   "cell_type": "code",
   "execution_count": 23,
   "metadata": {},
   "outputs": [
    {
     "data": {
      "text/html": [
       "<div>\n",
       "<style scoped>\n",
       "    .dataframe tbody tr th:only-of-type {\n",
       "        vertical-align: middle;\n",
       "    }\n",
       "\n",
       "    .dataframe tbody tr th {\n",
       "        vertical-align: top;\n",
       "    }\n",
       "\n",
       "    .dataframe thead th {\n",
       "        text-align: right;\n",
       "    }\n",
       "</style>\n",
       "<table border=\"1\" class=\"dataframe\">\n",
       "  <thead>\n",
       "    <tr style=\"text-align: right;\">\n",
       "      <th></th>\n",
       "      <th>id</th>\n",
       "      <th>img_name</th>\n",
       "      <th>상세이미지_구도1</th>\n",
       "      <th>상세이미지_구도2</th>\n",
       "      <th>카테고리</th>\n",
       "      <th>팔로워</th>\n",
       "      <th>성별</th>\n",
       "      <th>구도</th>\n",
       "      <th>태그</th>\n",
       "      <th>촬영구도 카운트</th>\n",
       "      <th>촬영장소 카운트</th>\n",
       "      <th>촬영구도 원핫</th>\n",
       "      <th>촬영장소 원핫</th>\n",
       "    </tr>\n",
       "  </thead>\n",
       "  <tbody>\n",
       "    <tr>\n",
       "      <th>0</th>\n",
       "      <td>@__02x02</td>\n",
       "      <td>[2912436941397721496.jpg, 2913249060464629697....</td>\n",
       "      <td>[전, 전, 전, 전, 전, 전, 상, 전, 전, 전, 전, 전, 전, 전, 전, ...</td>\n",
       "      <td>[야, 야, 야, 야, 야, 야, 야, 야, 야, 야, 야, 야, 야, 야, 야, ...</td>\n",
       "      <td>NaN</td>\n",
       "      <td>[0, 0, 0, 1]</td>\n",
       "      <td>1</td>\n",
       "      <td>[코디, 야외, 전신, 상품]</td>\n",
       "      <td>[스트릿, 레트로]</td>\n",
       "      <td>{'전': 27, '상': 2, '하': 1}</td>\n",
       "      <td>{'야': 30}</td>\n",
       "      <td>0</td>\n",
       "      <td>0</td>\n",
       "    </tr>\n",
       "    <tr>\n",
       "      <th>1</th>\n",
       "      <td>@__my_t__</td>\n",
       "      <td>[2967674458791156213.jpg, 2982066156069580582....</td>\n",
       "      <td>[전, 전, 전, 전, 전, 전, 전, 니, 전, 전, 전, 전, 전, 전, 전, ...</td>\n",
       "      <td>[실, 야, 실, 실, 실, 실, 실, 실, 야, 실, 실, 실, 실, 실, 실, ...</td>\n",
       "      <td>NaN</td>\n",
       "      <td>[0, 0, 0, 1]</td>\n",
       "      <td>0</td>\n",
       "      <td>[일상, 야외, 상품, 전신]</td>\n",
       "      <td>[스트릿, 캐주얼, 댄디]</td>\n",
       "      <td>{'전': 23, '니': 6, '상': 1}</td>\n",
       "      <td>{'실': 27, '야': 2}</td>\n",
       "      <td>0</td>\n",
       "      <td>0</td>\n",
       "    </tr>\n",
       "    <tr>\n",
       "      <th>2</th>\n",
       "      <td>@__v.yuum_look__</td>\n",
       "      <td>[2875249160037008816.jpg, 2914120288570709385....</td>\n",
       "      <td>[니, 니, 상, 니, 니, 니, 니, 니, 니, 니, 니, 니, 니, 니, 니, ...</td>\n",
       "      <td>[실, 야, 실, 실, 실, 실, 실, 실, 실, 야, 실, 실, 실, 실, 실, ...</td>\n",
       "      <td>NaN</td>\n",
       "      <td>[0, 0, 0, 1]</td>\n",
       "      <td>1</td>\n",
       "      <td>[거울, 상반신, 스튜디오, 일상]</td>\n",
       "      <td>[캐주얼, 로맨틱]</td>\n",
       "      <td>{'니': 26, '상': 3}</td>\n",
       "      <td>{'실': 26, '야': 3}</td>\n",
       "      <td>0</td>\n",
       "      <td>0</td>\n",
       "    </tr>\n",
       "    <tr>\n",
       "      <th>3</th>\n",
       "      <td>@_jongh0</td>\n",
       "      <td>[2970996238523862884.jpg, 2971703613413303190....</td>\n",
       "      <td>[전, 전, 전, 전, 전, 전, 전, 니, 전, 전, 전, 전, 전, 전, 전, ...</td>\n",
       "      <td>[야, 야, 야, 실, 야, 실, 야, 야, 야, 야, 야, 야, 야, 실, 야, ...</td>\n",
       "      <td>NaN</td>\n",
       "      <td>[0, 0, 1, 0]</td>\n",
       "      <td>0</td>\n",
       "      <td>[코디, 전신]</td>\n",
       "      <td>[캐주얼, 스트릿]</td>\n",
       "      <td>{'전': 27, '니': 1}</td>\n",
       "      <td>{'야': 25, '실': 5}</td>\n",
       "      <td>0</td>\n",
       "      <td>0</td>\n",
       "    </tr>\n",
       "    <tr>\n",
       "      <th>4</th>\n",
       "      <td>@_mgi_closet_</td>\n",
       "      <td>[2856667809394379675.jpg, 2858777754566839754....</td>\n",
       "      <td>[전, 전, 전, 전, 전, 전, 전, 전, 전, 전, 전, 전, 전, 전, 전, ...</td>\n",
       "      <td>[실, 실, 실, 실, 야, 야, 실, 실, 실, 실, 실, 실, 야, 실, 실, ...</td>\n",
       "      <td>NaN</td>\n",
       "      <td>[0, 0, 0, 0]</td>\n",
       "      <td>0</td>\n",
       "      <td>[전신, 야외, 코디]</td>\n",
       "      <td>[댄디, 스트릿]</td>\n",
       "      <td>{'전': 30}</td>\n",
       "      <td>{'실': 25, '야': 5}</td>\n",
       "      <td>0</td>\n",
       "      <td>0</td>\n",
       "    </tr>\n",
       "  </tbody>\n",
       "</table>\n",
       "</div>"
      ],
      "text/plain": [
       "                 id                                           img_name  \\\n",
       "0          @__02x02  [2912436941397721496.jpg, 2913249060464629697....   \n",
       "1         @__my_t__  [2967674458791156213.jpg, 2982066156069580582....   \n",
       "2  @__v.yuum_look__  [2875249160037008816.jpg, 2914120288570709385....   \n",
       "3          @_jongh0  [2970996238523862884.jpg, 2971703613413303190....   \n",
       "4     @_mgi_closet_  [2856667809394379675.jpg, 2858777754566839754....   \n",
       "\n",
       "                                           상세이미지_구도1  \\\n",
       "0  [전, 전, 전, 전, 전, 전, 상, 전, 전, 전, 전, 전, 전, 전, 전, ...   \n",
       "1  [전, 전, 전, 전, 전, 전, 전, 니, 전, 전, 전, 전, 전, 전, 전, ...   \n",
       "2  [니, 니, 상, 니, 니, 니, 니, 니, 니, 니, 니, 니, 니, 니, 니, ...   \n",
       "3  [전, 전, 전, 전, 전, 전, 전, 니, 전, 전, 전, 전, 전, 전, 전, ...   \n",
       "4  [전, 전, 전, 전, 전, 전, 전, 전, 전, 전, 전, 전, 전, 전, 전, ...   \n",
       "\n",
       "                                           상세이미지_구도2  카테고리           팔로워 성별  \\\n",
       "0  [야, 야, 야, 야, 야, 야, 야, 야, 야, 야, 야, 야, 야, 야, 야, ...   NaN  [0, 0, 0, 1]  1   \n",
       "1  [실, 야, 실, 실, 실, 실, 실, 실, 야, 실, 실, 실, 실, 실, 실, ...   NaN  [0, 0, 0, 1]  0   \n",
       "2  [실, 야, 실, 실, 실, 실, 실, 실, 실, 야, 실, 실, 실, 실, 실, ...   NaN  [0, 0, 0, 1]  1   \n",
       "3  [야, 야, 야, 실, 야, 실, 야, 야, 야, 야, 야, 야, 야, 실, 야, ...   NaN  [0, 0, 1, 0]  0   \n",
       "4  [실, 실, 실, 실, 야, 야, 실, 실, 실, 실, 실, 실, 야, 실, 실, ...   NaN  [0, 0, 0, 0]  0   \n",
       "\n",
       "                    구도              태그                   촬영구도 카운트  \\\n",
       "0     [코디, 야외, 전신, 상품]      [스트릿, 레트로]  {'전': 27, '상': 2, '하': 1}   \n",
       "1     [일상, 야외, 상품, 전신]  [스트릿, 캐주얼, 댄디]  {'전': 23, '니': 6, '상': 1}   \n",
       "2  [거울, 상반신, 스튜디오, 일상]      [캐주얼, 로맨틱]          {'니': 26, '상': 3}   \n",
       "3             [코디, 전신]      [캐주얼, 스트릿]          {'전': 27, '니': 1}   \n",
       "4         [전신, 야외, 코디]       [댄디, 스트릿]                  {'전': 30}   \n",
       "\n",
       "            촬영장소 카운트  촬영구도 원핫  촬영장소 원핫  \n",
       "0          {'야': 30}        0        0  \n",
       "1  {'실': 27, '야': 2}        0        0  \n",
       "2  {'실': 26, '야': 3}        0        0  \n",
       "3  {'야': 25, '실': 5}        0        0  \n",
       "4  {'실': 25, '야': 5}        0        0  "
      ]
     },
     "execution_count": 23,
     "metadata": {},
     "output_type": "execute_result"
    }
   ],
   "source": [
    "tag.head()"
   ]
  },
  {
   "cell_type": "code",
   "execution_count": 31,
   "metadata": {},
   "outputs": [],
   "source": [
    "#구도1\n",
    "total = []\n",
    "for i in range(len(tag)):\n",
    "    encode = []\n",
    "    for j in structure1:\n",
    "        c= tag['촬영구도 카운트'][i][j]\n",
    "        encode.append(c)\n",
    "    total.append(encode)\n",
    "    \n",
    "tag['촬영구도 원핫']= total"
   ]
  },
  {
   "cell_type": "code",
   "execution_count": 32,
   "metadata": {},
   "outputs": [],
   "source": [
    "total = []\n",
    "for i in range(len(tag)):\n",
    "    encode = []\n",
    "    for j in structure2:\n",
    "        c= tag['촬영장소 카운트'][i][j]\n",
    "        encode.append(c)\n",
    "    total.append(encode)\n",
    "    \n",
    "tag['촬영장소 원핫']= total"
   ]
  },
  {
   "attachments": {},
   "cell_type": "markdown",
   "metadata": {},
   "source": [
    "남녀별로 카테고리가 다르므로 각자 따로 one-hot encoding 한다."
   ]
  },
  {
   "cell_type": "code",
   "execution_count": 34,
   "metadata": {},
   "outputs": [
    {
     "name": "stderr",
     "output_type": "stream",
     "text": [
      "C:\\Users\\minje\\AppData\\Local\\Temp\\ipykernel_24068\\1549738105.py:18: SettingWithCopyWarning: \n",
      "A value is trying to be set on a copy of a slice from a DataFrame\n",
      "\n",
      "See the caveats in the documentation: https://pandas.pydata.org/pandas-docs/stable/user_guide/indexing.html#returning-a-view-versus-a-copy\n",
      "  tag['태그'][i] = encode\n",
      "C:\\Users\\minje\\AppData\\Local\\Temp\\ipykernel_24068\\1549738105.py:10: SettingWithCopyWarning: \n",
      "A value is trying to be set on a copy of a slice from a DataFrame\n",
      "\n",
      "See the caveats in the documentation: https://pandas.pydata.org/pandas-docs/stable/user_guide/indexing.html#returning-a-view-versus-a-copy\n",
      "  tag['태그'][i] = encode\n"
     ]
    }
   ],
   "source": [
    "#태그\n",
    "for i in range(len(tag)):\n",
    "    if tag['성별'][i] == 0:\n",
    "        encode = []\n",
    "        for j in cate_m:\n",
    "            if j in tag['태그'][i]:\n",
    "                encode.append(1)\n",
    "            else:\n",
    "                encode.append(0)\n",
    "        tag['태그'][i] = encode\n",
    "    else:\n",
    "        encode = []\n",
    "        for j in cate_w:\n",
    "            if j in tag['태그'][i]:\n",
    "                encode.append(1)\n",
    "            else:\n",
    "                encode.append(0)\n",
    "        tag['태그'][i] = encode"
   ]
  },
  {
   "cell_type": "code",
   "execution_count": 38,
   "metadata": {},
   "outputs": [],
   "source": [
    "train = tag[['id','팔로워','성별','태그','촬영구도 원핫']] #촬영장소는 사용하지 않기로 함"
   ]
  },
  {
   "attachments": {},
   "cell_type": "markdown",
   "metadata": {},
   "source": [
    "one-hot encoding이 잘 되었다."
   ]
  },
  {
   "cell_type": "code",
   "execution_count": 36,
   "metadata": {},
   "outputs": [
    {
     "data": {
      "text/plain": [
       "1    56\n",
       "0    45\n",
       "Name: 성별, dtype: int64"
      ]
     },
     "execution_count": 36,
     "metadata": {},
     "output_type": "execute_result"
    }
   ],
   "source": [
    "tag['성별'].value_counts()"
   ]
  },
  {
   "attachments": {},
   "cell_type": "markdown",
   "metadata": {},
   "source": [
    "# 3. 업체 인플루언서 추천 함수 정의"
   ]
  },
  {
   "attachments": {},
   "cell_type": "markdown",
   "metadata": {},
   "source": [
    "구도, 팔로워, 태그 등의 내적값 높으면 더 높은점수?"
   ]
  },
  {
   "cell_type": "code",
   "execution_count": 52,
   "metadata": {},
   "outputs": [],
   "source": [
    "import numpy as np\n",
    "\n",
    "def recommend_for_company(sex, follower, structure, category): #one-hot encoding된 리스트 input\n",
    "    if int(sex) == 0:\n",
    "        #성별 필터링\n",
    "        filtered_influencers = train[train['성별']==0].reset_index(drop=True)\n",
    "    else:\n",
    "        filtered_influencers = train[train['성별']==1].reset_index(drop=True)\n",
    "    #팔로워 필터링\n",
    "    index=[]\n",
    "    for i in range(len(filtered_influencers)):\n",
    "        if np.dot(filtered_influencers['팔로워'][i],follower) != 0:\n",
    "            index.append(i)\n",
    "    filtered_influencers1 = filtered_influencers.iloc[index,:].reset_index(drop=True)\n",
    "    #구도 필터링\n",
    "    index1=[]\n",
    "    for i in range(len(filtered_influencers1)):\n",
    "        if np.dot(filtered_influencers1['촬영구도 원핫'][i],structure) != 0:\n",
    "            index1.append(i)\n",
    "    filtered_influencers2 = filtered_influencers1.iloc[index1,:].reset_index(drop=True)\n",
    "    #태그 필터링\n",
    "    index2=[]\n",
    "    for i in range(len(filtered_influencers2)):\n",
    "        if np.dot(filtered_influencers2['태그'][i],category) != 0:\n",
    "            index2.append(i)\n",
    "    filtered_influencers_final = filtered_influencers2.iloc[index2,:].reset_index(drop=True)\n",
    "\n",
    "    #최종 점수 계산\n",
    "    scores = []\n",
    "    for i in range(len(filtered_influencers_final)):\n",
    "        score = np.dot(filtered_influencers_final['팔로워'][i], follower) + np.dot(filtered_influencers_final['태그'][i], category) + np.dot(filtered_influencers_final['촬영구도 원핫'][i], structure)\n",
    "        scores.append(score)\n",
    "    filtered_influencers_final['final_score'] = scores\n",
    "    filtered_influencers_final.sort_values('final_score', ascending=False, inplace=True)\n",
    "    filtered_influencers_final.reset_index(drop=True, inplace=True)\n",
    "\n",
    "    return filtered_influencers_final.iloc[:3,:]"
   ]
  },
  {
   "attachments": {},
   "cell_type": "markdown",
   "metadata": {},
   "source": [
    "test해보기"
   ]
  },
  {
   "attachments": {},
   "cell_type": "markdown",
   "metadata": {},
   "source": [
    "Input 값\n",
    "1. sex = 남(0), 여(1)\n",
    "2. follower = ['mega', 'macro', 'midtier', 'micro']\n",
    "3. structure = ['니샷', '상반신', '셀카', '제품', '전신', '하반신']\n",
    "4. category (남, 여에 따라 아래 두가지)\n",
    "- cate_m(sex=0인 경우) = ['댄디', '스트릿', '스포츠', '아메리칸캐주얼', '캐주얼', '포멀']\n",
    "- cate_w(sex=1인 경우) = ['걸리시', '레트로', '로맨틱', '스트릿', '스포츠', '시크', '캐주얼', '포멀']"
   ]
  },
  {
   "cell_type": "code",
   "execution_count": 53,
   "metadata": {},
   "outputs": [
    {
     "data": {
      "text/html": [
       "<div>\n",
       "<style scoped>\n",
       "    .dataframe tbody tr th:only-of-type {\n",
       "        vertical-align: middle;\n",
       "    }\n",
       "\n",
       "    .dataframe tbody tr th {\n",
       "        vertical-align: top;\n",
       "    }\n",
       "\n",
       "    .dataframe thead th {\n",
       "        text-align: right;\n",
       "    }\n",
       "</style>\n",
       "<table border=\"1\" class=\"dataframe\">\n",
       "  <thead>\n",
       "    <tr style=\"text-align: right;\">\n",
       "      <th></th>\n",
       "      <th>id</th>\n",
       "      <th>팔로워</th>\n",
       "      <th>성별</th>\n",
       "      <th>태그</th>\n",
       "      <th>촬영구도 원핫</th>\n",
       "      <th>final_score</th>\n",
       "    </tr>\n",
       "  </thead>\n",
       "  <tbody>\n",
       "    <tr>\n",
       "      <th>0</th>\n",
       "      <td>@bejoon0</td>\n",
       "      <td>[0, 0, 1, 0]</td>\n",
       "      <td>0</td>\n",
       "      <td>[0, 1, 0, 1, 0, 0]</td>\n",
       "      <td>[0, 0, 0, 0, 30, 0]</td>\n",
       "      <td>33</td>\n",
       "    </tr>\n",
       "    <tr>\n",
       "      <th>1</th>\n",
       "      <td>@hodu__jwan</td>\n",
       "      <td>[0, 0, 1, 0]</td>\n",
       "      <td>0</td>\n",
       "      <td>[0, 1, 0, 0, 0, 0]</td>\n",
       "      <td>[0, 0, 0, 0, 30, 0]</td>\n",
       "      <td>32</td>\n",
       "    </tr>\n",
       "    <tr>\n",
       "      <th>2</th>\n",
       "      <td>@j0ng_wo0</td>\n",
       "      <td>[0, 0, 1, 0]</td>\n",
       "      <td>0</td>\n",
       "      <td>[0, 1, 0, 1, 0, 0]</td>\n",
       "      <td>[0, 0, 0, 0, 28, 0]</td>\n",
       "      <td>31</td>\n",
       "    </tr>\n",
       "  </tbody>\n",
       "</table>\n",
       "</div>"
      ],
      "text/plain": [
       "            id           팔로워 성별                  태그              촬영구도 원핫  \\\n",
       "0     @bejoon0  [0, 0, 1, 0]  0  [0, 1, 0, 1, 0, 0]  [0, 0, 0, 0, 30, 0]   \n",
       "1  @hodu__jwan  [0, 0, 1, 0]  0  [0, 1, 0, 0, 0, 0]  [0, 0, 0, 0, 30, 0]   \n",
       "2    @j0ng_wo0  [0, 0, 1, 0]  0  [0, 1, 0, 1, 0, 0]  [0, 0, 0, 0, 28, 0]   \n",
       "\n",
       "   final_score  \n",
       "0           33  \n",
       "1           32  \n",
       "2           31  "
      ]
     },
     "execution_count": 53,
     "metadata": {},
     "output_type": "execute_result"
    }
   ],
   "source": [
    "# 팔로워(투자비, 광고비)는 중간정도이며 주로 전신사진이 많이 올라오는 인플루언서에게 협찬을 하고 싶으며,\n",
    "# 주로 남성의류이며 스트릿하고 아메카지한 상품을 파는 업체에는 다음과 같은 인플루언서들을 추천한다.\n",
    "\n",
    "recommend_for_company(0, [0,1,1,0], [0,0,0,0,1,0], [0,1,0,1,0,0])"
   ]
  },
  {
   "attachments": {},
   "cell_type": "markdown",
   "metadata": {},
   "source": [
    "이외에 추가적으로 이미지를 넣고 싶다면 소비자 인플루언서 추천모델을 추가로 실행하여 도출하면 된다."
   ]
  },
  {
   "cell_type": "code",
   "execution_count": null,
   "metadata": {},
   "outputs": [],
   "source": []
  }
 ],
 "metadata": {
  "kernelspec": {
   "display_name": "Python 3",
   "language": "python",
   "name": "python3"
  },
  "language_info": {
   "codemirror_mode": {
    "name": "ipython",
    "version": 3
   },
   "file_extension": ".py",
   "mimetype": "text/x-python",
   "name": "python",
   "nbconvert_exporter": "python",
   "pygments_lexer": "ipython3",
   "version": "3.10.5"
  },
  "orig_nbformat": 4,
  "vscode": {
   "interpreter": {
    "hash": "3270668232355fd2dd65ed70df3044ca130af173f9b28a3e9baddff30d747670"
   }
  }
 },
 "nbformat": 4,
 "nbformat_minor": 2
}
