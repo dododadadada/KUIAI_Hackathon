{
 "cells": [
  {
   "cell_type": "code",
   "execution_count": 118,
   "metadata": {},
   "outputs": [],
   "source": [
    "import cv2\n",
    "import pandas as pd"
   ]
  },
  {
   "cell_type": "markdown",
   "metadata": {},
   "source": [
    "### warm cool monotone classifier"
   ]
  },
  {
   "cell_type": "code",
   "execution_count": 123,
   "metadata": {},
   "outputs": [],
   "source": [
    "# pixel 단위 톤 구별 함수\n",
    "def rgb_classfy(rgb):\n",
    "    r = rgb[0]; g = rgb[1]; b = rgb[2]\n",
    "    \n",
    "    # pixel의 r, g, b의 비율을 고려하여 \n",
    "    # 해당 pixel이 monotone인지 redtone인지 bluetone인지 분류\n",
    "    if ((r/g) >= 0.95 and (r/g) <= 1.05) and ((g/b) >= 0.95 and (g/b) <= 1.05) and ((r/g) >= 0.95 and (r/g) <= 1.05):\n",
    "        return 'mono'\n",
    "    elif r < 51 and g < 51 and b < 51:\n",
    "        return 'mono'\n",
    "    else:\n",
    "        if r > b:\n",
    "            return 'red'\n",
    "        else:\n",
    "            return 'blue'\n",
    "\n",
    "# image 단위 톤 구별 함수 (warm, cool, mono)\n",
    "def image_tone_classifier(image_dir):\n",
    "\n",
    "    # image의 모든 pixel을 rgb 벡터로 저장\n",
    "    image = cv2.imread(image_dir)\n",
    "    image = cv2.resize(image, dsize=(0, 0), fx=0.2, fy=0.2, interpolation=cv2.INTER_LINEAR)\n",
    "    image = cv2.cvtColor(image, cv2.COLOR_BGR2RGB)\n",
    "\n",
    "    # rgb_classify를 통해 image 내의 모든 pixel을 분류\n",
    "    image_list = [list(lst) for img in image for lst in img]\n",
    "    rb = [rgb_classfy(rgb) for rgb in image_list]\n",
    "\n",
    "    mono = rb.count('mono')\n",
    "    red = rb.count('red')\n",
    "    blue = rb.count('blue')\n",
    "\n",
    "    # mono, red, blue에 해당하는 pixel 개수에 따라\n",
    "    # 해당 image를 mono, warm, cool 중 하나로 분류\n",
    "    if (red >= blue) & (red >= mono):\n",
    "        return \"warm\"\n",
    "    elif (blue > red) & (blue >= mono):\n",
    "        return \"cool\"\n",
    "    elif (mono > red) & (mono > blue):\n",
    "        return \"mono\""
   ]
  },
  {
   "cell_type": "code",
   "execution_count": 114,
   "metadata": {},
   "outputs": [],
   "source": [
    "import os\n",
    "#인플루언서 리스트\n",
    "os.chdir('C:/KUIAI2023/influencer_sample')\n",
    "influencer = os.listdir() #인스타 계정 리스트 저장\n",
    "#경로 내 파일명 추출\n",
    "images = {} #key: 계정이름, value: 해당 계정의 이미지 파일명 리스트\n",
    "for i in influencer:\n",
    "    os.chdir(f'C:/KUIAI2023/influencer_sample/{i}/images')\n",
    "    files = os.listdir()\n",
    "    images[i] = files"
   ]
  },
  {
   "cell_type": "code",
   "execution_count": 115,
   "metadata": {},
   "outputs": [
    {
     "name": "stderr",
     "output_type": "stream",
     "text": [
      "C:\\Users\\황민아\\AppData\\Local\\Temp\\ipykernel_26388\\3174003528.py:5: RuntimeWarning: divide by zero encountered in ubyte_scalars\n",
      "  if ((r/g) >= 0.95 and (r/g) <= 1.05) and ((g/b) >= 0.95 and (g/b) <= 1.05) and ((r/g) >= 0.95 and (r/g) <= 1.05):\n",
      "C:\\Users\\황민아\\AppData\\Local\\Temp\\ipykernel_26388\\3174003528.py:5: RuntimeWarning: invalid value encountered in ubyte_scalars\n",
      "  if ((r/g) >= 0.95 and (r/g) <= 1.05) and ((g/b) >= 0.95 and (g/b) <= 1.05) and ((r/g) >= 0.95 and (r/g) <= 1.05):\n"
     ]
    }
   ],
   "source": [
    "tone = {} #key: 계정이름, value: mono, warm, cool 의 image 비율 리스트\n",
    "total_tone = []\n",
    "\n",
    "# 각 인플루언서에 대해 mono, warm, cool인 이미지의 비율을 리스트로 저장\n",
    "# ex) tone = {\"@skuukzky\":[0.1, 0.6, 0.4], ...}\n",
    "for i in influencer:\n",
    "    mono_cnt = 0\n",
    "    warm_cnt = 0\n",
    "    cool_cnt = 0\n",
    "    img_cnt = len(images[i])\n",
    "    dir_i = f'C:/KUIAI2023/influencer_sample/{i}/images/'\n",
    "    for img in images[i]:\n",
    "        img_tone = image_tone_classifier(dir_i+img)\n",
    "        if img_tone == \"mono\":\n",
    "            mono_cnt += 1\n",
    "        elif img_tone == \"warm\":\n",
    "            warm_cnt += 1\n",
    "        elif img_tone == \"cool\":\n",
    "            cool_cnt += 1\n",
    "    tone[i] = [mono_cnt/img_cnt, warm_cnt/img_cnt, cool_cnt/img_cnt]\n",
    "    total_tone.append(tone[i])"
   ]
  },
  {
   "cell_type": "code",
   "execution_count": 116,
   "metadata": {},
   "outputs": [],
   "source": [
    "# 각 인플루언서에 대한 tone ratio list\n",
    "df = pd.DataFrame()\n",
    "df['id'] = influencer\n",
    "df['tone'] = total_tone\n",
    "df.to_csv(\"C:/KUIAI2023/tone.csv\")"
   ]
  }
 ],
 "metadata": {
  "interpreter": {
   "hash": "701b0a0b7a2c9f22951288ae724dcca671efbf7a3617f44b032fca1f3935cc47"
  },
  "kernelspec": {
   "display_name": "Python 3.9.7 64-bit (system)",
   "language": "python",
   "name": "python3"
  },
  "language_info": {
   "codemirror_mode": {
    "name": "ipython",
    "version": 3
   },
   "file_extension": ".py",
   "mimetype": "text/x-python",
   "name": "python",
   "nbconvert_exporter": "python",
   "pygments_lexer": "ipython3",
   "version": "3.9.7"
  },
  "orig_nbformat": 4
 },
 "nbformat": 4,
 "nbformat_minor": 2
}
