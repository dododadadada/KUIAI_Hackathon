{
 "cells": [
  {
   "attachments": {},
   "cell_type": "markdown",
   "metadata": {},
   "source": [
    "# 1. 이미지 벡터 추출 함수 정의"
   ]
  },
  {
   "cell_type": "code",
   "execution_count": 3,
   "metadata": {},
   "outputs": [
    {
     "name": "stderr",
     "output_type": "stream",
     "text": [
      "c:\\Users\\minje\\AppData\\Local\\Programs\\Python\\Python310\\lib\\site-packages\\torchvision\\models\\_utils.py:208: UserWarning: The parameter 'pretrained' is deprecated since 0.13 and may be removed in the future, please use 'weights' instead.\n",
      "  warnings.warn(\n",
      "c:\\Users\\minje\\AppData\\Local\\Programs\\Python\\Python310\\lib\\site-packages\\torchvision\\models\\_utils.py:223: UserWarning: Arguments other than a weight enum or `None` for 'weights' are deprecated since 0.13 and may be removed in the future. The current behavior is equivalent to passing `weights=ResNet18_Weights.IMAGENET1K_V1`. You can also use `weights=ResNet18_Weights.DEFAULT` to get the most up-to-date weights.\n",
      "  warnings.warn(msg)\n"
     ]
    }
   ],
   "source": [
    "#이미지 특징 벡터 함수  추출\n",
    "import torch\n",
    "import torch.nn as nn\n",
    "import torchvision.models as models\n",
    "import torchvision.transforms as transforms\n",
    "from torch.autograd import Variable\n",
    "from PIL import Image\n",
    "#코드 출처 https://becominghuman.ai/extract-a-feature-vector-for-any-image-with-pytorch-9717561d1d4c\n",
    "# https://daeun-computer-uneasy.tistory.com/85\n",
    "\n",
    "# Load the pretrained model\n",
    "model = models.resnet18(pretrained=True)\n",
    "\n",
    "# Use the model object to select the desired layer\n",
    "layer = model._modules.get('avgpool')\n",
    "\n",
    "# Set model to evaluation mode\n",
    "model.eval()\n",
    "\n",
    "# Image transforms\n",
    "scaler = transforms.Resize((224, 224))\n",
    "normalize = transforms.Normalize(mean=[0.485, 0.456, 0.406], std=[0.229, 0.224, 0.225])\n",
    "to_tensor = transforms.ToTensor()\n",
    "\n",
    "def get_vector(image_name):\n",
    "    # 1. Load the image with Pillow library\n",
    "    img = Image.open(image_name)\n",
    "    img = img.convert('RGB')\n",
    "    # 2. Create a PyTorch Variable with the transformed image\n",
    "    t_img = Variable(normalize(to_tensor(scaler(img))).unsqueeze(0))\n",
    "    # 3. Create a vector of zeros that will hold our feature vector\n",
    "    #    The 'avgpool' layer has an output size of 512\n",
    "    my_embedding = torch.zeros([1, 512, 1, 512])\n",
    "    # 4. Define a function that will copy the output of a layer\n",
    "    def copy_data(m, i, o):\n",
    "        my_embedding.copy_(o.data)\n",
    "    # 5. Attach that function to our selected layer\n",
    "    h = layer.register_forward_hook(copy_data)\n",
    "    # 6. Run the model on our transformed image\n",
    "    model(t_img)\n",
    "    # 7. Detach our copy function from the layer\n",
    "    h.remove()\n",
    "    # 8. Return the feature vector\n",
    "    return my_embedding"
   ]
  },
  {
   "cell_type": "code",
   "execution_count": 4,
   "metadata": {},
   "outputs": [],
   "source": [
    "#cosine similarity 함수 정의\n",
    "def cos_pytorch(A, B):\n",
    "  cos= nn.CosineSimilarity(dim=1, eps=1e-6)\n",
    "  cos_sim = cos(A, B)\n",
    "  return cos_sim.numpy()[0][0][0]"
   ]
  },
  {
   "attachments": {},
   "cell_type": "markdown",
   "metadata": {},
   "source": [
    "# 2. 인플루언서 리스트 및 파일명 불러오기"
   ]
  },
  {
   "cell_type": "code",
   "execution_count": 9,
   "metadata": {},
   "outputs": [
    {
     "name": "stdout",
     "output_type": "stream",
     "text": [
      "['@0nefence', '@166.ootd', '@1ungwoo', '@337janggoon', '@59seok', '@98.c_project', '@amourfor_u', '@antmousbe9', '@ap.s_fi1st', '@arcco_iris_', '@bacajini', '@ba_serin_e', '@bbo9ni', '@bejoon0', '@belleofcloset', '@bloggerbok', '@by_he.nique', '@campo_look', '@chaileeson', '@c_eunnnnnnn', '@dbs.ycaa', '@dismas_', '@dosirak_hansol', '@d_soms', '@eungil_j', '@e_wolly', '@geol_dong', '@grey_woo9', '@hamnihouse', '@hawl_0.s', '@hmm.__.u', '@hodu__jwan', '@hotneul', '@hwi____ii', '@j0ng_wo0', '@jelly_wony', '@jess.02.23', '@jin.wonder', '@jindalorian', '@jin_pyo_is', '@jung_staas', '@kimchiz_man', '@kimyannnnngh', '@kj_m.w', '@kxyxn', '@k_8_8bsoo', '@lamode.seoul', '@lil_0uzi_vert', '@loolinmx', '@lxx.s.y_', '@malko_bee', '@mavlfit', '@mini.d31', '@moodonx2', '@my_own_way_____', '@m_n__day', '@odor_bubu', '@oneh6_', '@one_r_k', '@oohsehun', '@oytoyt_', '@ro.seon', '@rozley._.y', '@rupinydaily', '@ruri.kim', '@s.s_jun', '@shura_twins_korea', '@siaestival', '@skuukzky', '@slglf', '@so_h_appy', '@so_j2', '@so_love_so_', '@sualboys', '@sympa_young', '@s_uz_.zzy__2', '@tlrou.vee', '@tt__yl', '@uuuuk_2_', '@velyjuu', '@win.on_', '@wnsgurrha', '@xixxeeonx_4', '@y._.dulcet', '@yangkoon__dl', '@yeenstyle_', '@yj_mark', '@ys971003__', '@yulkeem___', '@yummy.__.do', '@y_mood_h', '@zxcvr0626', '@z___meme', '@_jongh0', '@_mgi_closet_', '@_yourthen', '@_zia_mood', '@__02x02', '@__my_t__', '@__v.yuum_look__']\n",
      "['2985025814282546441.jpg', '2985739671300925909.jpg', '2986449340583416558.jpg', '2987239673319880936.jpg', '2987998482799647980.jpg', '2988660231714392532.jpg', '2989467375623902520.jpg', '2990136855689453440.jpg', '2990789324597831989.jpg', '2991579610399785848.jpg', '2992276973502233515.jpg', '2993077194721194576.jpg', '2993717578564421250.jpg', '2994461915028125370.jpg', '2995161486976657241.jpg', '2995815646382374653.jpg', '2996596511182147603.jpg', '2997299964690812858.jpg', '2998098838388977671.jpg', '2998885085000687558.jpg', '2999584637747939141.jpg', '3000309710343429591.jpg', '3001472928835218963.jpg', '3002428195739727239.jpg', '3003173699142298173.jpg', '3004577405444400836.jpg', '3005347722609627475.jpg', '3006161204775157958.jpg', '3006778853318091854.jpg', '3008175603962386523.jpg']\n"
     ]
    }
   ],
   "source": [
    "import os\n",
    "#인플루언서 리스트\n",
    "os.chdir('C:/Korea university/공모전/해커톤/인플루언서정보_샘플')\n",
    "influencer = os.listdir() #인스타 계정 리스트 저장\n",
    "#경로 내 파일명 추출\n",
    "images = {} #key: 계정이름, value: 해당 계정의 이미지 파일명 리스트\n",
    "for i in influencer:\n",
    "    os.chdir(f'C:/Korea university/공모전/해커톤/인플루언서정보_샘플/{i}/images')\n",
    "    files = os.listdir()\n",
    "    images[i] = files\n",
    "    \n",
    "print(influencer)\n",
    "print(images[influencer[0]])"
   ]
  },
  {
   "cell_type": "code",
   "execution_count": 10,
   "metadata": {},
   "outputs": [],
   "source": [
    "import pandas as pd\n",
    "influencer_df = pd.DataFrame()\n",
    "influencer_df['id'] = influencer\n",
    "influencer_df['img_name'] = [images[influencer[i]] for i in range(len(influencer))]\n",
    "influencer_df.to_csv('C:/Korea university/공모전/해커톤/모델링/업체-인플루언서/influencer_df.csv')"
   ]
  },
  {
   "attachments": {},
   "cell_type": "markdown",
   "metadata": {},
   "source": [
    "# 3. 피드 이미지 유사도를 통한 인플루언서 추천함수 정의"
   ]
  },
  {
   "attachments": {},
   "cell_type": "markdown",
   "metadata": {},
   "source": [
    "Resnet18로 추출한 피드 이미지의 feature vector 간의 코사인 유사도를 측정하여 소비자의 피드이미지와 비슷한 색감, 구도를 가진 인플루언서를 추천해준다."
   ]
  },
  {
   "cell_type": "code",
   "execution_count": 60,
   "metadata": {},
   "outputs": [],
   "source": [
    "import os\n",
    "#인플루언서 리스트\n",
    "os.chdir('C:/Korea university/공모전/해커톤/인플루언서정보_샘플')\n",
    "influencer = os.listdir()\n",
    "#경로 내 파일명 추출\n",
    "images = {}\n",
    "for i in influencer:\n",
    "    os.chdir(f'C:/Korea university/공모전/해커톤/인플루언서정보_샘플/{i}/images')\n",
    "    files = os.listdir()\n",
    "    images[i] = files\n",
    "\n",
    "#influencer 샘플 이미지 feature vector 추출 후 리스트로 저장\n",
    "influencer_features = []\n",
    "for influen in influencer:\n",
    "    influen_features =[]\n",
    "    for j in images[influen]:\n",
    "        feature = get_vector(f'C:/Korea university/공모전/해커톤/인플루언서정보_샘플/{influen}/images/{j}')\n",
    "        influen_features.append(feature)\n",
    "    influencer_features.append(influen_features)"
   ]
  },
  {
   "cell_type": "code",
   "execution_count": null,
   "metadata": {},
   "outputs": [],
   "source": [
    "#인플루언서 피드와 평균 cos similarity 계산하여 유사도가 가장 높은 인플루언서 아이디와 유사도를 도출하는 함수\n",
    "#input_images: 계산할 이미지의 경로 리스트\n",
    "def recommend_for_consumer(input_images):\n",
    "    #input 이미지 feature vector 추출\n",
    "    input_features=[]\n",
    "    for i in input_images:\n",
    "        feature = get_vector(i)\n",
    "        input_features.append(feature)\n",
    "\n",
    "    #평균 cos similarity 계산\n",
    "    sims_total = []\n",
    "    for k in range(len(influencer_features)): #여러 인플루언서들의 feature vector\n",
    "        sims = []\n",
    "        for a in input_features: #input 이미지의 feature vector\n",
    "            for b in influencer_features[k]: #하나의 인플루언서의 feature vector\n",
    "                sim = cos_pytorch(a,b)\n",
    "                sims.append(sim)\n",
    "        sim_average = sum(sims)/len(sims)\n",
    "        sims_total.append((sim_average, k)) #평균 유사도와 인플루언서 index 저장\n",
    "    \n",
    "    result = sorted(sims_total, reverse=True)\n",
    "    result = result[:10]\n",
    "\n",
    "    influencer_recommend = [(influencer[result[i][1]],result[i][0]) for i in range(10)]\n",
    "\n",
    "    return influencer_recommend"
   ]
  },
  {
   "attachments": {},
   "cell_type": "markdown",
   "metadata": {},
   "source": [
    "일반인 피드 샘플로 test 해보기"
   ]
  },
  {
   "cell_type": "code",
   "execution_count": 21,
   "metadata": {},
   "outputs": [
    {
     "data": {
      "text/plain": [
       "[('@velyjuu', 0.6648282972283852),\n",
       " ('@so_love_so_', 0.6633930996060371),\n",
       " ('@__v.yuum_look__', 0.6594102927323046),\n",
       " ('@bacajini', 0.6592520656330245),\n",
       " ('@shura_twins_korea', 0.6568085376495196),\n",
       " ('@campo_look', 0.6563171309301223),\n",
       " ('@y._.dulcet', 0.653558206392659),\n",
       " ('@by_he.nique', 0.6515352449483341),\n",
       " ('@166.ootd', 0.6490226417779923),\n",
       " ('@z___meme', 0.6470658401293414)]"
      ]
     },
     "execution_count": 21,
     "metadata": {},
     "output_type": "execute_result"
    }
   ],
   "source": [
    "input = [f'C:/Korea university/공모전/해커톤/소비자 피드 샘플/김수경/{i+1}.PNG' for i in range(6)] #test \n",
    "test_result = recommend_for_consumer(input)\n",
    "test_result"
   ]
  },
  {
   "cell_type": "code",
   "execution_count": 16,
   "metadata": {},
   "outputs": [
    {
     "data": {
      "text/plain": [
       "[('@bacajini', 0.6820959477197557),\n",
       " ('@so_love_so_', 0.6798264533281326),\n",
       " ('@__v.yuum_look__', 0.6779707635956249),\n",
       " ('@velyjuu', 0.676441837579776),\n",
       " ('@by_he.nique', 0.6709413775139385),\n",
       " ('@166.ootd', 0.6682728164725833),\n",
       " ('@y._.dulcet', 0.6670211331711875),\n",
       " ('@shura_twins_korea', 0.6636096511358096),\n",
       " ('@moodonx2', 0.6624900082747142),\n",
       " ('@rozley._.y', 0.6624294946591059)]"
      ]
     },
     "execution_count": 16,
     "metadata": {},
     "output_type": "execute_result"
    }
   ],
   "source": [
    "input = [f'C:/Korea university/공모전/해커톤/소비자 피드 샘플/lucy/{i+1}.PNG' for i in range(6)] #test \n",
    "test_result = recommend_for_consumer(input)\n",
    "test_result"
   ]
  },
  {
   "cell_type": "code",
   "execution_count": 17,
   "metadata": {},
   "outputs": [
    {
     "data": {
      "text/plain": [
       "[('@kj_m.w', 0.7242736088732878),\n",
       " ('@jin_pyo_is', 0.7197259763876597),\n",
       " ('@mavlfit', 0.7195060345033805),\n",
       " ('@bbo9ni', 0.7187253603977817),\n",
       " ('@grey_woo9', 0.7177101150155067),\n",
       " ('@j0ng_wo0', 0.7174121186669383),\n",
       " ('@__02x02', 0.7166253504653771),\n",
       " ('@one_r_k', 0.7161420036492676),\n",
       " ('@_jongh0', 0.7141496786581618),\n",
       " ('@337janggoon', 0.7117368099590142)]"
      ]
     },
     "execution_count": 17,
     "metadata": {},
     "output_type": "execute_result"
    }
   ],
   "source": [
    "input = [f'C:/Korea university/공모전/해커톤/소비자 피드 샘플/이동휘/{i+1}.PNG' for i in range(8)] #test \n",
    "test_result = recommend_for_consumer(input)\n",
    "test_result"
   ]
  },
  {
   "cell_type": "code",
   "execution_count": 18,
   "metadata": {},
   "outputs": [
    {
     "data": {
      "text/plain": [
       "[('@mavlfit', 0.7138312131166458),\n",
       " ('@bbo9ni', 0.7063841362084661),\n",
       " ('@337janggoon', 0.7047376577059428),\n",
       " ('@_jongh0', 0.703956373568092),\n",
       " ('@kj_m.w', 0.7017917241652807),\n",
       " ('@grey_woo9', 0.7017030203342438),\n",
       " ('@j0ng_wo0', 0.7012450058545385),\n",
       " ('@yangkoon__dl', 0.7009132476647695),\n",
       " ('@sualboys', 0.699509176214536),\n",
       " ('@zxcvr0626', 0.6991625875234604)]"
      ]
     },
     "execution_count": 18,
     "metadata": {},
     "output_type": "execute_result"
    }
   ],
   "source": [
    "input = [f'C:/Korea university/공모전/해커톤/소비자 피드 샘플/이병주/{i+1}.PNG' for i in range(10)] #test \n",
    "test_result = recommend_for_consumer(input)\n",
    "test_result"
   ]
  },
  {
   "cell_type": "code",
   "execution_count": 20,
   "metadata": {},
   "outputs": [
    {
     "data": {
      "text/plain": [
       "[('@jindalorian', 0.6976417964696884),\n",
       " ('@so_j2', 0.6859297007322311),\n",
       " ('@dbs.ycaa', 0.6814382269101984),\n",
       " ('@bbo9ni', 0.6807412200740406),\n",
       " ('@zxcvr0626', 0.678497955997785),\n",
       " ('@tt__yl', 0.677684428862163),\n",
       " ('@hmm.__.u', 0.6773605632781983),\n",
       " ('@hodu__jwan', 0.6748948268095653),\n",
       " ('@so_h_appy', 0.6747684073448181),\n",
       " ('@166.ootd', 0.6739721953868866)]"
      ]
     },
     "execution_count": 20,
     "metadata": {},
     "output_type": "execute_result"
    }
   ],
   "source": [
    "input = [f'C:/Korea university/공모전/해커톤/소비자 피드 샘플/스트릿/{i+1}.jpg' for i in range(10)] #test \n",
    "test_result = recommend_for_consumer(input)\n",
    "test_result"
   ]
  },
  {
   "attachments": {},
   "cell_type": "markdown",
   "metadata": {},
   "source": [
    "동일 인플루언서의 피드에 대해 이미지 평균 유사도를 구하여 '비슷한 피드 이미지'라고 할 수 있는 구체적인 유사도 수치(threshold)를 구해본다."
   ]
  },
  {
   "cell_type": "code",
   "execution_count": 8,
   "metadata": {},
   "outputs": [
    {
     "name": "stdout",
     "output_type": "stream",
     "text": [
      "0.71576834 0.5643341 0.8427911\n"
     ]
    }
   ],
   "source": [
    "import numpy as np\n",
    "same_sim=[]\n",
    "for i in range(len(influencer_features)):\n",
    "    fea = influencer_features[i]\n",
    "    sim = []\n",
    "    for a in fea:\n",
    "        for b in fea:\n",
    "            s = cos_pytorch(a,b)\n",
    "            sim.append(s)\n",
    "    sim_average = np.mean(sim)\n",
    "    same_sim.append(sim_average)\n",
    "\n",
    "print(np.mean(same_sim), min(same_sim), max(same_sim))"
   ]
  },
  {
   "attachments": {},
   "cell_type": "markdown",
   "metadata": {},
   "source": [
    "동일 인플루언서 피드들의 평균 cos similarity 계산 결과 0.7정도 나온다. 유사도가 최소 0.56부터 최대 0.84까지도 나온다. 이를 기준으로 threshold로 정하면 된다."
   ]
  },
  {
   "cell_type": "code",
   "execution_count": 6,
   "metadata": {},
   "outputs": [
    {
     "name": "stdout",
     "output_type": "stream",
     "text": [
      "@0nefence\n"
     ]
    },
    {
     "data": {
      "text/plain": [
       "[('@0nefence', 0.7197441086504195),\n",
       " ('@166.ootd', 0.7036784715784921),\n",
       " ('@__v.yuum_look__', 0.7007498254036081),\n",
       " ('@campo_look', 0.6990199821776357),\n",
       " ('@bacajini', 0.6908138431253887),\n",
       " ('@ro.seon', 0.6848268175125122),\n",
       " ('@c_eunnnnnnn', 0.6846637177136209),\n",
       " ('@e_wolly', 0.6828418977972533),\n",
       " ('@xixxeeonx_4', 0.6823274343874719),\n",
       " ('@slglf', 0.6802485388186242)]"
      ]
     },
     "execution_count": 6,
     "metadata": {},
     "output_type": "execute_result"
    }
   ],
   "source": [
    "input = [f'C:/Korea university/공모전/해커톤/인플루언서정보_샘플/{influencer[0]}/images/{i}' for i in images[influencer[0]]]\n",
    "threshold_result = recommend_for_consumer(input)\n",
    "print(influencer[0])\n",
    "threshold_result"
   ]
  },
  {
   "attachments": {},
   "cell_type": "markdown",
   "metadata": {},
   "source": [
    "당연한 결과이긴 하지만 자기 자신의 피드가 가장 유사도 높게 나온다."
   ]
  },
  {
   "attachments": {},
   "cell_type": "markdown",
   "metadata": {},
   "source": [
    "# 4. 색감분석(톤 분류)을 통한 인플루언서 추천함수 정의 (KNN)"
   ]
  },
  {
   "attachments": {},
   "cell_type": "markdown",
   "metadata": {},
   "source": [
    "각 influencer들의 톤 비율을 계산해둔 데이터셋 불러오기"
   ]
  },
  {
   "cell_type": "code",
   "execution_count": 24,
   "metadata": {},
   "outputs": [
    {
     "data": {
      "text/html": [
       "<div>\n",
       "<style scoped>\n",
       "    .dataframe tbody tr th:only-of-type {\n",
       "        vertical-align: middle;\n",
       "    }\n",
       "\n",
       "    .dataframe tbody tr th {\n",
       "        vertical-align: top;\n",
       "    }\n",
       "\n",
       "    .dataframe thead th {\n",
       "        text-align: right;\n",
       "    }\n",
       "</style>\n",
       "<table border=\"1\" class=\"dataframe\">\n",
       "  <thead>\n",
       "    <tr style=\"text-align: right;\">\n",
       "      <th></th>\n",
       "      <th>id</th>\n",
       "      <th>tone</th>\n",
       "    </tr>\n",
       "  </thead>\n",
       "  <tbody>\n",
       "    <tr>\n",
       "      <th>0</th>\n",
       "      <td>@0nefence</td>\n",
       "      <td>[0.3333333333333333, 0.6, 0.06666666666666667]</td>\n",
       "    </tr>\n",
       "    <tr>\n",
       "      <th>1</th>\n",
       "      <td>@166.ootd</td>\n",
       "      <td>[0.3, 0.7, 0.0]</td>\n",
       "    </tr>\n",
       "    <tr>\n",
       "      <th>2</th>\n",
       "      <td>@1ungwoo</td>\n",
       "      <td>[0.1724137931034483, 0.6551724137931034, 0.172...</td>\n",
       "    </tr>\n",
       "    <tr>\n",
       "      <th>3</th>\n",
       "      <td>@337janggoon</td>\n",
       "      <td>[0.06666666666666667, 0.8333333333333334, 0.1]</td>\n",
       "    </tr>\n",
       "    <tr>\n",
       "      <th>4</th>\n",
       "      <td>@59seok</td>\n",
       "      <td>[0.4827586206896552, 0.3793103448275862, 0.137...</td>\n",
       "    </tr>\n",
       "  </tbody>\n",
       "</table>\n",
       "</div>"
      ],
      "text/plain": [
       "             id                                               tone\n",
       "0     @0nefence     [0.3333333333333333, 0.6, 0.06666666666666667]\n",
       "1     @166.ootd                                    [0.3, 0.7, 0.0]\n",
       "2      @1ungwoo  [0.1724137931034483, 0.6551724137931034, 0.172...\n",
       "3  @337janggoon     [0.06666666666666667, 0.8333333333333334, 0.1]\n",
       "4       @59seok  [0.4827586206896552, 0.3793103448275862, 0.137..."
      ]
     },
     "execution_count": 24,
     "metadata": {},
     "output_type": "execute_result"
    }
   ],
   "source": [
    "influencer_tones= pd.read_csv('C:/Korea university/공모전/해커톤/모델링/소비자-인플루언서/tone.csv')\n",
    "influencer_tones.head()\n",
    "#tone: [mono, warm, cool] 인스타 피드 중 이미지 톤 비율"
   ]
  },
  {
   "attachments": {},
   "cell_type": "markdown",
   "metadata": {},
   "source": [
    "## 4-1. 이미지 톤 구별함수 정의"
   ]
  },
  {
   "cell_type": "code",
   "execution_count": null,
   "metadata": {},
   "outputs": [],
   "source": [
    "!pip install -U scikit-learn"
   ]
  },
  {
   "cell_type": "code",
   "execution_count": 35,
   "metadata": {},
   "outputs": [],
   "source": [
    "import cv2\n",
    "import matplotlib.pyplot as plt\n",
    "import matplotlib.image as mpimg\n",
    "import pandas as pd\n",
    "import numpy as np\n",
    "from sklearn.cluster import KMeans\n",
    "import scipy.misc\n",
    "\n",
    "# pixel 단위 톤 구별 함수\n",
    "def rgb_classfy(rgb):\n",
    "    r = rgb[0]; g = rgb[1]; b = rgb[2]\n",
    "    \n",
    "    if ((r/g) >= 0.95 and (r/g) <= 1.05) and ((g/b) >= 0.95 and (g/b) <= 1.05) and ((r/g) >= 0.95 and (r/g) <= 1.05):\n",
    "        return 'mono'\n",
    "    elif r < 51 and g < 51 and b < 51:\n",
    "        return 'mono'\n",
    "    else:\n",
    "        if r > b:\n",
    "            return 'red'\n",
    "        else:\n",
    "            return 'blue'\n",
    "\n",
    "# image의 톤 구별 함수 (warm, cool, mono)\n",
    "def image_tone_classifier(image_dir):\n",
    "    # image의 각 pixel을 rgb 벡터로 저장\n",
    "    img_array = np.fromfile(image_dir, np.uint8)\n",
    "    image = cv2.imdecode(img_array, cv2.IMREAD_COLOR)\n",
    "    image = cv2.resize(image, dsize=(0, 0), fx=0.2, fy=0.2, interpolation=cv2.INTER_LINEAR)\n",
    "    image = cv2.cvtColor(image, cv2.COLOR_BGR2RGB)\n",
    "\n",
    "    image_list = [list(lst) for img in image for lst in img]\n",
    "    rb = [rgb_classfy(rgb) for rgb in image_list]\n",
    "    totalpixel = len(rb)\n",
    "\n",
    "    mono = rb.count('mono')\n",
    "    red = rb.count('red')\n",
    "    blue = rb.count('blue')\n",
    "\n",
    "    if (red >= blue) & (red >= mono):\n",
    "        return \"warm\"\n",
    "    elif (blue > red) & (blue >= mono):\n",
    "        return \"cool\"\n",
    "    elif (mono > red) & (mono > blue):\n",
    "        return \"mono\""
   ]
  },
  {
   "attachments": {},
   "cell_type": "markdown",
   "metadata": {},
   "source": [
    "## 4-2. 소비자 input 피드 이미지들에 대해서 톤 비율 도출하는 함수 정의"
   ]
  },
  {
   "cell_type": "code",
   "execution_count": 36,
   "metadata": {},
   "outputs": [],
   "source": [
    "def get_tone(images): #images: input 이미지들 경로가 담긴 리스트\n",
    "    mono_cnt = 0\n",
    "    warm_cnt = 0\n",
    "    cool_cnt = 0\n",
    "    img_cnt = len(images)\n",
    "    for img in images:\n",
    "        img_tone = image_tone_classifier(img)\n",
    "        if img_tone == \"mono\":\n",
    "            mono_cnt += 1\n",
    "        elif img_tone == \"warm\":\n",
    "            warm_cnt += 1\n",
    "        elif img_tone == \"cool\":\n",
    "            cool_cnt += 1\n",
    "    tone = [mono_cnt/img_cnt, warm_cnt/img_cnt, cool_cnt/img_cnt] #각 피드이미지에 대한 mono, warm, cool 이미지의 비율 저장\n",
    "    return tone"
   ]
  },
  {
   "attachments": {},
   "cell_type": "markdown",
   "metadata": {},
   "source": [
    "test 이미지로 톤 비율 도출해보기"
   ]
  },
  {
   "cell_type": "code",
   "execution_count": 37,
   "metadata": {},
   "outputs": [
    {
     "name": "stderr",
     "output_type": "stream",
     "text": [
      "C:\\Users\\minje\\AppData\\Local\\Temp\\ipykernel_1284\\3268304376.py:13: RuntimeWarning: divide by zero encountered in ubyte_scalars\n",
      "  if ((r/g) >= 0.95 and (r/g) <= 1.05) and ((g/b) >= 0.95 and (g/b) <= 1.05) and ((r/g) >= 0.95 and (r/g) <= 1.05):\n",
      "C:\\Users\\minje\\AppData\\Local\\Temp\\ipykernel_1284\\3268304376.py:13: RuntimeWarning: invalid value encountered in ubyte_scalars\n",
      "  if ((r/g) >= 0.95 and (r/g) <= 1.05) and ((g/b) >= 0.95 and (g/b) <= 1.05) and ((r/g) >= 0.95 and (r/g) <= 1.05):\n"
     ]
    },
    {
     "data": {
      "text/plain": [
       "[0.125, 0.875, 0.0]"
      ]
     },
     "execution_count": 37,
     "metadata": {},
     "output_type": "execute_result"
    }
   ],
   "source": [
    "input = [f'C:/Korea university/공모전/해커톤/소비자 피드 샘플/이동휘/{i+1}.PNG' for i in range(8)]\n",
    "t = get_tone(input)\n",
    "t"
   ]
  },
  {
   "cell_type": "code",
   "execution_count": 38,
   "metadata": {},
   "outputs": [
    {
     "name": "stderr",
     "output_type": "stream",
     "text": [
      "C:\\Users\\minje\\AppData\\Local\\Temp\\ipykernel_1284\\3268304376.py:13: RuntimeWarning: divide by zero encountered in ubyte_scalars\n",
      "  if ((r/g) >= 0.95 and (r/g) <= 1.05) and ((g/b) >= 0.95 and (g/b) <= 1.05) and ((r/g) >= 0.95 and (r/g) <= 1.05):\n",
      "C:\\Users\\minje\\AppData\\Local\\Temp\\ipykernel_1284\\3268304376.py:13: RuntimeWarning: invalid value encountered in ubyte_scalars\n",
      "  if ((r/g) >= 0.95 and (r/g) <= 1.05) and ((g/b) >= 0.95 and (g/b) <= 1.05) and ((r/g) >= 0.95 and (r/g) <= 1.05):\n"
     ]
    },
    {
     "data": {
      "text/plain": [
       "[0.3333333333333333, 0.5, 0.16666666666666666]"
      ]
     },
     "execution_count": 38,
     "metadata": {},
     "output_type": "execute_result"
    }
   ],
   "source": [
    "input = [f'C:/Korea university/공모전/해커톤/소비자 피드 샘플/lucy/{i+1}.PNG' for i in range(6)]\n",
    "t = get_tone(input)\n",
    "t"
   ]
  },
  {
   "attachments": {},
   "cell_type": "markdown",
   "metadata": {},
   "source": [
    "잘 나온다."
   ]
  },
  {
   "attachments": {},
   "cell_type": "markdown",
   "metadata": {},
   "source": [
    "# 5. 3, 4번 함수 융합하여 추천시스템 모델링 구현"
   ]
  },
  {
   "attachments": {},
   "cell_type": "markdown",
   "metadata": {},
   "source": [
    "이미지 유사도와 색감을 기반으로 소비자 피드 또는 input 이미지와 비슷한 인플루언서를 추천해준다."
   ]
  },
  {
   "cell_type": "code",
   "execution_count": 57,
   "metadata": {},
   "outputs": [],
   "source": [
    "#코사인 유사도 계산 함수\n",
    "import numpy as np\n",
    "from numpy import dot\n",
    "from numpy.linalg import norm\n",
    "\n",
    "def cos(A, B):\n",
    "  return dot(A, B)/(norm(A)*norm(B))"
   ]
  },
  {
   "cell_type": "code",
   "execution_count": 87,
   "metadata": {},
   "outputs": [],
   "source": [
    "#최종 모델링 구현\n",
    "import ast\n",
    "def final_recommend_for_consumer(input_images): #input_images: 소비자 input 이미지들의 경로리스트\n",
    "    #이미지 유사도 기반으로 10순위권 인플루언서 도출\n",
    "    influencer_top10 = recommend_for_consumer(input_images) #(계정이름, 이미지 유사도) 튜플형식으로 리스트에 저장돼서 나옴\n",
    "\n",
    "    #이미지 유사도 10위권 인플루언서들의 계정이름과 톤비율 가져오기\n",
    "    index = []\n",
    "    imagesim = []\n",
    "    for i in range(len(influencer_top10)):\n",
    "        filter = influencer_tones[influencer_tones['id'] == influencer_top10[i][0]].index[0]\n",
    "        index.append(filter)\n",
    "        imagesim.append(influencer_top10[i][1])\n",
    "\n",
    "    influencer_top10_final = influencer_tones.iloc[index, :]\n",
    "    influencer_top10_final['image_sim'] = imagesim\n",
    "    influencer_top10_final.reset_index(drop=True, inplace=True)#index 초기화\n",
    "\n",
    "    #소비자 이미지의 톤 비율 계산\n",
    "    consumer_tone = get_tone(input_images)\n",
    "\n",
    "    #소비자 이미지 톤비율의 코사인 유사도가 높은 3개의 인플루언서 도출\n",
    "    tonesim=[]\n",
    "    for i in range(len(influencer_top10)):\n",
    "        sim = cos(consumer_tone, ast.literal_eval(influencer_top10_final['tone'][i])) #ast.literal_eval: str형식으로된 list를 list로 변환\n",
    "        tonesim.append(sim)\n",
    "    \n",
    "    influencer_top10_final['tone_sim'] = tonesim\n",
    "    influencer_top10_final['total_sim'] = list(influencer_top10_final['image_sim'] + influencer_top10_final['tone_sim']) #이미지 유사도와 색감 각각 같은 가중치로 도출함\n",
    "    influencer_top10_final.sort_values('total_sim', ascending=False, inplace=True)\n",
    "    \n",
    "\n",
    "    return influencer_top10_final.iloc[:3,:]"
   ]
  },
  {
   "attachments": {},
   "cell_type": "markdown",
   "metadata": {},
   "source": [
    "test이미지 돌려보기"
   ]
  },
  {
   "cell_type": "code",
   "execution_count": 82,
   "metadata": {},
   "outputs": [
    {
     "name": "stderr",
     "output_type": "stream",
     "text": [
      "C:\\Users\\minje\\AppData\\Local\\Temp\\ipykernel_1284\\417069487.py:16: SettingWithCopyWarning: \n",
      "A value is trying to be set on a copy of a slice from a DataFrame.\n",
      "Try using .loc[row_indexer,col_indexer] = value instead\n",
      "\n",
      "See the caveats in the documentation: https://pandas.pydata.org/pandas-docs/stable/user_guide/indexing.html#returning-a-view-versus-a-copy\n",
      "  influencer_top10_final['image_sim'] = imagesim\n",
      "C:\\Users\\minje\\AppData\\Local\\Temp\\ipykernel_1284\\3268304376.py:13: RuntimeWarning: divide by zero encountered in ubyte_scalars\n",
      "  if ((r/g) >= 0.95 and (r/g) <= 1.05) and ((g/b) >= 0.95 and (g/b) <= 1.05) and ((r/g) >= 0.95 and (r/g) <= 1.05):\n",
      "C:\\Users\\minje\\AppData\\Local\\Temp\\ipykernel_1284\\3268304376.py:13: RuntimeWarning: invalid value encountered in ubyte_scalars\n",
      "  if ((r/g) >= 0.95 and (r/g) <= 1.05) and ((g/b) >= 0.95 and (g/b) <= 1.05) and ((r/g) >= 0.95 and (r/g) <= 1.05):\n",
      "C:\\Users\\minje\\AppData\\Local\\Temp\\ipykernel_1284\\417069487.py:28: SettingWithCopyWarning: \n",
      "A value is trying to be set on a copy of a slice from a DataFrame.\n",
      "Try using .loc[row_indexer,col_indexer] = value instead\n",
      "\n",
      "See the caveats in the documentation: https://pandas.pydata.org/pandas-docs/stable/user_guide/indexing.html#returning-a-view-versus-a-copy\n",
      "  influencer_top10_final['tone_sim'] = tonesim\n",
      "C:\\Users\\minje\\AppData\\Local\\Temp\\ipykernel_1284\\417069487.py:29: SettingWithCopyWarning: \n",
      "A value is trying to be set on a copy of a slice from a DataFrame.\n",
      "Try using .loc[row_indexer,col_indexer] = value instead\n",
      "\n",
      "See the caveats in the documentation: https://pandas.pydata.org/pandas-docs/stable/user_guide/indexing.html#returning-a-view-versus-a-copy\n",
      "  influencer_top10_final['total_sim'] = list(influencer_top10_final['image_sim'] + influencer_top10_final['tone_sim'])\n"
     ]
    },
    {
     "data": {
      "text/html": [
       "<div>\n",
       "<style scoped>\n",
       "    .dataframe tbody tr th:only-of-type {\n",
       "        vertical-align: middle;\n",
       "    }\n",
       "\n",
       "    .dataframe tbody tr th {\n",
       "        vertical-align: top;\n",
       "    }\n",
       "\n",
       "    .dataframe thead th {\n",
       "        text-align: right;\n",
       "    }\n",
       "</style>\n",
       "<table border=\"1\" class=\"dataframe\">\n",
       "  <thead>\n",
       "    <tr style=\"text-align: right;\">\n",
       "      <th></th>\n",
       "      <th>id</th>\n",
       "      <th>tone</th>\n",
       "      <th>image_sim</th>\n",
       "      <th>tone_sim</th>\n",
       "      <th>total_sim</th>\n",
       "    </tr>\n",
       "  </thead>\n",
       "  <tbody>\n",
       "    <tr>\n",
       "      <th>0</th>\n",
       "      <td>@mavlfit</td>\n",
       "      <td>[0.6, 0.26666666666666666, 0.13333333333333333]</td>\n",
       "      <td>0.713831</td>\n",
       "      <td>0.555170</td>\n",
       "      <td>1.269002</td>\n",
       "    </tr>\n",
       "    <tr>\n",
       "      <th>1</th>\n",
       "      <td>@bbo9ni</td>\n",
       "      <td>[0.17857142857142858, 0.6785714285714286, 0.14...</td>\n",
       "      <td>0.706384</td>\n",
       "      <td>0.990930</td>\n",
       "      <td>1.697314</td>\n",
       "    </tr>\n",
       "    <tr>\n",
       "      <th>2</th>\n",
       "      <td>@337janggoon</td>\n",
       "      <td>[0.06666666666666667, 0.8333333333333334, 0.1]</td>\n",
       "      <td>0.704738</td>\n",
       "      <td>0.985925</td>\n",
       "      <td>1.690663</td>\n",
       "    </tr>\n",
       "    <tr>\n",
       "      <th>3</th>\n",
       "      <td>@_jongh0</td>\n",
       "      <td>[0.35714285714285715, 0.6071428571428571, 0.03...</td>\n",
       "      <td>0.703956</td>\n",
       "      <td>0.902697</td>\n",
       "      <td>1.606654</td>\n",
       "    </tr>\n",
       "    <tr>\n",
       "      <th>4</th>\n",
       "      <td>@kj_m.w</td>\n",
       "      <td>[0.16666666666666666, 0.8, 0.03333333333333333]</td>\n",
       "      <td>0.701792</td>\n",
       "      <td>0.970606</td>\n",
       "      <td>1.672398</td>\n",
       "    </tr>\n",
       "    <tr>\n",
       "      <th>5</th>\n",
       "      <td>@grey_woo9</td>\n",
       "      <td>[0.36666666666666664, 0.4666666666666667, 0.16...</td>\n",
       "      <td>0.701703</td>\n",
       "      <td>0.875663</td>\n",
       "      <td>1.577366</td>\n",
       "    </tr>\n",
       "    <tr>\n",
       "      <th>6</th>\n",
       "      <td>@j0ng_wo0</td>\n",
       "      <td>[0.14285714285714285, 0.6785714285714286, 0.17...</td>\n",
       "      <td>0.701245</td>\n",
       "      <td>0.997717</td>\n",
       "      <td>1.698962</td>\n",
       "    </tr>\n",
       "    <tr>\n",
       "      <th>7</th>\n",
       "      <td>@yangkoon__dl</td>\n",
       "      <td>[0.2, 0.7666666666666667, 0.03333333333333333]</td>\n",
       "      <td>0.700913</td>\n",
       "      <td>0.966677</td>\n",
       "      <td>1.667591</td>\n",
       "    </tr>\n",
       "    <tr>\n",
       "      <th>8</th>\n",
       "      <td>@sualboys</td>\n",
       "      <td>[0.6666666666666666, 0.23333333333333334, 0.1]</td>\n",
       "      <td>0.699509</td>\n",
       "      <td>0.476905</td>\n",
       "      <td>1.176414</td>\n",
       "    </tr>\n",
       "    <tr>\n",
       "      <th>9</th>\n",
       "      <td>@zxcvr0626</td>\n",
       "      <td>[0.13333333333333333, 0.7, 0.16666666666666666]</td>\n",
       "      <td>0.699163</td>\n",
       "      <td>0.997942</td>\n",
       "      <td>1.697105</td>\n",
       "    </tr>\n",
       "  </tbody>\n",
       "</table>\n",
       "</div>"
      ],
      "text/plain": [
       "              id                                               tone  \\\n",
       "0       @mavlfit    [0.6, 0.26666666666666666, 0.13333333333333333]   \n",
       "1        @bbo9ni  [0.17857142857142858, 0.6785714285714286, 0.14...   \n",
       "2   @337janggoon     [0.06666666666666667, 0.8333333333333334, 0.1]   \n",
       "3       @_jongh0  [0.35714285714285715, 0.6071428571428571, 0.03...   \n",
       "4        @kj_m.w    [0.16666666666666666, 0.8, 0.03333333333333333]   \n",
       "5     @grey_woo9  [0.36666666666666664, 0.4666666666666667, 0.16...   \n",
       "6      @j0ng_wo0  [0.14285714285714285, 0.6785714285714286, 0.17...   \n",
       "7  @yangkoon__dl     [0.2, 0.7666666666666667, 0.03333333333333333]   \n",
       "8      @sualboys     [0.6666666666666666, 0.23333333333333334, 0.1]   \n",
       "9     @zxcvr0626    [0.13333333333333333, 0.7, 0.16666666666666666]   \n",
       "\n",
       "   image_sim  tone_sim  total_sim  \n",
       "0   0.713831  0.555170   1.269002  \n",
       "1   0.706384  0.990930   1.697314  \n",
       "2   0.704738  0.985925   1.690663  \n",
       "3   0.703956  0.902697   1.606654  \n",
       "4   0.701792  0.970606   1.672398  \n",
       "5   0.701703  0.875663   1.577366  \n",
       "6   0.701245  0.997717   1.698962  \n",
       "7   0.700913  0.966677   1.667591  \n",
       "8   0.699509  0.476905   1.176414  \n",
       "9   0.699163  0.997942   1.697105  "
      ]
     },
     "execution_count": 82,
     "metadata": {},
     "output_type": "execute_result"
    }
   ],
   "source": [
    "input = [f'C:/Korea university/공모전/해커톤/소비자 피드 샘플/이병주/{i+1}.PNG' for i in range(10)]\n",
    "test = final_recommend_for_consumer(input)\n",
    "test"
   ]
  },
  {
   "cell_type": "code",
   "execution_count": 83,
   "metadata": {},
   "outputs": [
    {
     "name": "stderr",
     "output_type": "stream",
     "text": [
      "C:\\Users\\minje\\AppData\\Local\\Temp\\ipykernel_1284\\417069487.py:16: SettingWithCopyWarning: \n",
      "A value is trying to be set on a copy of a slice from a DataFrame.\n",
      "Try using .loc[row_indexer,col_indexer] = value instead\n",
      "\n",
      "See the caveats in the documentation: https://pandas.pydata.org/pandas-docs/stable/user_guide/indexing.html#returning-a-view-versus-a-copy\n",
      "  influencer_top10_final['image_sim'] = imagesim\n",
      "C:\\Users\\minje\\AppData\\Local\\Temp\\ipykernel_1284\\3268304376.py:13: RuntimeWarning: divide by zero encountered in ubyte_scalars\n",
      "  if ((r/g) >= 0.95 and (r/g) <= 1.05) and ((g/b) >= 0.95 and (g/b) <= 1.05) and ((r/g) >= 0.95 and (r/g) <= 1.05):\n",
      "C:\\Users\\minje\\AppData\\Local\\Temp\\ipykernel_1284\\3268304376.py:13: RuntimeWarning: invalid value encountered in ubyte_scalars\n",
      "  if ((r/g) >= 0.95 and (r/g) <= 1.05) and ((g/b) >= 0.95 and (g/b) <= 1.05) and ((r/g) >= 0.95 and (r/g) <= 1.05):\n",
      "C:\\Users\\minje\\AppData\\Local\\Temp\\ipykernel_1284\\417069487.py:28: SettingWithCopyWarning: \n",
      "A value is trying to be set on a copy of a slice from a DataFrame.\n",
      "Try using .loc[row_indexer,col_indexer] = value instead\n",
      "\n",
      "See the caveats in the documentation: https://pandas.pydata.org/pandas-docs/stable/user_guide/indexing.html#returning-a-view-versus-a-copy\n",
      "  influencer_top10_final['tone_sim'] = tonesim\n",
      "C:\\Users\\minje\\AppData\\Local\\Temp\\ipykernel_1284\\417069487.py:29: SettingWithCopyWarning: \n",
      "A value is trying to be set on a copy of a slice from a DataFrame.\n",
      "Try using .loc[row_indexer,col_indexer] = value instead\n",
      "\n",
      "See the caveats in the documentation: https://pandas.pydata.org/pandas-docs/stable/user_guide/indexing.html#returning-a-view-versus-a-copy\n",
      "  influencer_top10_final['total_sim'] = list(influencer_top10_final['image_sim'] + influencer_top10_final['tone_sim'])\n"
     ]
    },
    {
     "data": {
      "text/html": [
       "<div>\n",
       "<style scoped>\n",
       "    .dataframe tbody tr th:only-of-type {\n",
       "        vertical-align: middle;\n",
       "    }\n",
       "\n",
       "    .dataframe tbody tr th {\n",
       "        vertical-align: top;\n",
       "    }\n",
       "\n",
       "    .dataframe thead th {\n",
       "        text-align: right;\n",
       "    }\n",
       "</style>\n",
       "<table border=\"1\" class=\"dataframe\">\n",
       "  <thead>\n",
       "    <tr style=\"text-align: right;\">\n",
       "      <th></th>\n",
       "      <th>id</th>\n",
       "      <th>tone</th>\n",
       "      <th>image_sim</th>\n",
       "      <th>tone_sim</th>\n",
       "      <th>total_sim</th>\n",
       "    </tr>\n",
       "  </thead>\n",
       "  <tbody>\n",
       "    <tr>\n",
       "      <th>0</th>\n",
       "      <td>@velyjuu</td>\n",
       "      <td>[0.07692307692307693, 0.9230769230769231, 0.0]</td>\n",
       "      <td>0.664828</td>\n",
       "      <td>0.891338</td>\n",
       "      <td>1.556166</td>\n",
       "    </tr>\n",
       "    <tr>\n",
       "      <th>1</th>\n",
       "      <td>@so_love_so_</td>\n",
       "      <td>[0.13333333333333333, 0.6666666666666666, 0.2]</td>\n",
       "      <td>0.663393</td>\n",
       "      <td>0.967617</td>\n",
       "      <td>1.631010</td>\n",
       "    </tr>\n",
       "    <tr>\n",
       "      <th>2</th>\n",
       "      <td>@__v.yuum_look__</td>\n",
       "      <td>[0.1724137931034483, 0.7931034482758621, 0.034...</td>\n",
       "      <td>0.659410</td>\n",
       "      <td>0.892209</td>\n",
       "      <td>1.551619</td>\n",
       "    </tr>\n",
       "    <tr>\n",
       "      <th>3</th>\n",
       "      <td>@bacajini</td>\n",
       "      <td>[0.42857142857142855, 0.5, 0.07142857142857142]</td>\n",
       "      <td>0.659252</td>\n",
       "      <td>0.723364</td>\n",
       "      <td>1.382616</td>\n",
       "    </tr>\n",
       "    <tr>\n",
       "      <th>4</th>\n",
       "      <td>@shura_twins_korea</td>\n",
       "      <td>[0.037037037037037035, 0.8518518518518519, 0.1...</td>\n",
       "      <td>0.656809</td>\n",
       "      <td>0.943880</td>\n",
       "      <td>1.600688</td>\n",
       "    </tr>\n",
       "    <tr>\n",
       "      <th>5</th>\n",
       "      <td>@campo_look</td>\n",
       "      <td>[0.27586206896551724, 0.6551724137931034, 0.06...</td>\n",
       "      <td>0.656317</td>\n",
       "      <td>0.863667</td>\n",
       "      <td>1.519984</td>\n",
       "    </tr>\n",
       "    <tr>\n",
       "      <th>6</th>\n",
       "      <td>@y._.dulcet</td>\n",
       "      <td>[0.1, 0.8666666666666667, 0.03333333333333333]</td>\n",
       "      <td>0.653558</td>\n",
       "      <td>0.904959</td>\n",
       "      <td>1.558517</td>\n",
       "    </tr>\n",
       "    <tr>\n",
       "      <th>7</th>\n",
       "      <td>@by_he.nique</td>\n",
       "      <td>[0.03333333333333333, 0.9666666666666667, 0.0]</td>\n",
       "      <td>0.651535</td>\n",
       "      <td>0.893896</td>\n",
       "      <td>1.545431</td>\n",
       "    </tr>\n",
       "    <tr>\n",
       "      <th>8</th>\n",
       "      <td>@166.ootd</td>\n",
       "      <td>[0.3, 0.7, 0.0]</td>\n",
       "      <td>0.649023</td>\n",
       "      <td>0.822108</td>\n",
       "      <td>1.471131</td>\n",
       "    </tr>\n",
       "    <tr>\n",
       "      <th>9</th>\n",
       "      <td>@z___meme</td>\n",
       "      <td>[0.4642857142857143, 0.5, 0.03571428571428571]</td>\n",
       "      <td>0.647066</td>\n",
       "      <td>0.677911</td>\n",
       "      <td>1.324976</td>\n",
       "    </tr>\n",
       "  </tbody>\n",
       "</table>\n",
       "</div>"
      ],
      "text/plain": [
       "                   id                                               tone  \\\n",
       "0            @velyjuu     [0.07692307692307693, 0.9230769230769231, 0.0]   \n",
       "1        @so_love_so_     [0.13333333333333333, 0.6666666666666666, 0.2]   \n",
       "2    @__v.yuum_look__  [0.1724137931034483, 0.7931034482758621, 0.034...   \n",
       "3           @bacajini    [0.42857142857142855, 0.5, 0.07142857142857142]   \n",
       "4  @shura_twins_korea  [0.037037037037037035, 0.8518518518518519, 0.1...   \n",
       "5         @campo_look  [0.27586206896551724, 0.6551724137931034, 0.06...   \n",
       "6         @y._.dulcet     [0.1, 0.8666666666666667, 0.03333333333333333]   \n",
       "7        @by_he.nique     [0.03333333333333333, 0.9666666666666667, 0.0]   \n",
       "8           @166.ootd                                    [0.3, 0.7, 0.0]   \n",
       "9           @z___meme     [0.4642857142857143, 0.5, 0.03571428571428571]   \n",
       "\n",
       "   image_sim  tone_sim  total_sim  \n",
       "0   0.664828  0.891338   1.556166  \n",
       "1   0.663393  0.967617   1.631010  \n",
       "2   0.659410  0.892209   1.551619  \n",
       "3   0.659252  0.723364   1.382616  \n",
       "4   0.656809  0.943880   1.600688  \n",
       "5   0.656317  0.863667   1.519984  \n",
       "6   0.653558  0.904959   1.558517  \n",
       "7   0.651535  0.893896   1.545431  \n",
       "8   0.649023  0.822108   1.471131  \n",
       "9   0.647066  0.677911   1.324976  "
      ]
     },
     "execution_count": 83,
     "metadata": {},
     "output_type": "execute_result"
    }
   ],
   "source": [
    "input = [f'C:/Korea university/공모전/해커톤/소비자 피드 샘플/김수경/{i+1}.PNG' for i in range(6)]\n",
    "test = final_recommend_for_consumer(input)\n",
    "test"
   ]
  },
  {
   "cell_type": "code",
   "execution_count": null,
   "metadata": {},
   "outputs": [],
   "source": []
  }
 ],
 "metadata": {
  "kernelspec": {
   "display_name": "Python 3",
   "language": "python",
   "name": "python3"
  },
  "language_info": {
   "codemirror_mode": {
    "name": "ipython",
    "version": 3
   },
   "file_extension": ".py",
   "mimetype": "text/x-python",
   "name": "python",
   "nbconvert_exporter": "python",
   "pygments_lexer": "ipython3",
   "version": "3.10.5 (tags/v3.10.5:f377153, Jun  6 2022, 16:14:13) [MSC v.1929 64 bit (AMD64)]"
  },
  "orig_nbformat": 4,
  "vscode": {
   "interpreter": {
    "hash": "3270668232355fd2dd65ed70df3044ca130af173f9b28a3e9baddff30d747670"
   }
  }
 },
 "nbformat": 4,
 "nbformat_minor": 2
}
